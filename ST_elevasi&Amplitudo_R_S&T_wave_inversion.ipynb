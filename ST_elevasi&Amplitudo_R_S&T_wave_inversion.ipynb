{
  "nbformat": 4,
  "nbformat_minor": 0,
  "metadata": {
    "colab": {
      "provenance": [],
      "include_colab_link": true
    },
    "kernelspec": {
      "name": "python3",
      "display_name": "Python 3"
    },
    "language_info": {
      "name": "python"
    }
  },
  "cells": [
    {
      "cell_type": "markdown",
      "metadata": {
        "id": "view-in-github",
        "colab_type": "text"
      },
      "source": [
        "<a href=\"https://colab.research.google.com/github/JunandaSap/TA/blob/main/ST_elevasi%26Amplitudo_R_S%26T_wave_inversion.ipynb\" target=\"_parent\"><img src=\"https://colab.research.google.com/assets/colab-badge.svg\" alt=\"Open In Colab\"/></a>"
      ]
    },
    {
      "cell_type": "code",
      "execution_count": null,
      "metadata": {
        "colab": {
          "base_uri": "https://localhost:8080/"
        },
        "id": "JHggXLEHUu3r",
        "outputId": "56dcdf8e-c4cd-45bc-9d27-0d22f867310f"
      },
      "outputs": [
        {
          "output_type": "stream",
          "name": "stdout",
          "text": [
            "Collecting wfdb\n",
            "  Downloading wfdb-4.2.0-py3-none-any.whl.metadata (3.7 kB)\n",
            "Requirement already satisfied: librosa in /usr/local/lib/python3.11/dist-packages (0.10.2.post1)\n",
            "Requirement already satisfied: matplotlib in /usr/local/lib/python3.11/dist-packages (3.10.0)\n",
            "Requirement already satisfied: numpy>=1.26.4 in /usr/local/lib/python3.11/dist-packages (from wfdb) (1.26.4)\n",
            "Collecting pandas>=2.2.3 (from wfdb)\n",
            "  Downloading pandas-2.2.3-cp311-cp311-manylinux_2_17_x86_64.manylinux2014_x86_64.whl.metadata (89 kB)\n",
            "\u001b[2K     \u001b[90m━━━━━━━━━━━━━━━━━━━━━━━━━━━━━━━━━━━━━━━━\u001b[0m \u001b[32m89.9/89.9 kB\u001b[0m \u001b[31m1.2 MB/s\u001b[0m eta \u001b[36m0:00:00\u001b[0m\n",
            "\u001b[?25hRequirement already satisfied: requests>=2.8.1 in /usr/local/lib/python3.11/dist-packages (from wfdb) (2.32.3)\n",
            "Requirement already satisfied: scipy>=1.13.0 in /usr/local/lib/python3.11/dist-packages (from wfdb) (1.13.1)\n",
            "Requirement already satisfied: soundfile>=0.10.0 in /usr/local/lib/python3.11/dist-packages (from wfdb) (0.13.1)\n",
            "Requirement already satisfied: audioread>=2.1.9 in /usr/local/lib/python3.11/dist-packages (from librosa) (3.0.1)\n",
            "Requirement already satisfied: scikit-learn>=0.20.0 in /usr/local/lib/python3.11/dist-packages (from librosa) (1.6.1)\n",
            "Requirement already satisfied: joblib>=0.14 in /usr/local/lib/python3.11/dist-packages (from librosa) (1.4.2)\n",
            "Requirement already satisfied: decorator>=4.3.0 in /usr/local/lib/python3.11/dist-packages (from librosa) (4.4.2)\n",
            "Requirement already satisfied: numba>=0.51.0 in /usr/local/lib/python3.11/dist-packages (from librosa) (0.61.0)\n",
            "Requirement already satisfied: pooch>=1.1 in /usr/local/lib/python3.11/dist-packages (from librosa) (1.8.2)\n",
            "Requirement already satisfied: soxr>=0.3.2 in /usr/local/lib/python3.11/dist-packages (from librosa) (0.5.0.post1)\n",
            "Requirement already satisfied: typing-extensions>=4.1.1 in /usr/local/lib/python3.11/dist-packages (from librosa) (4.12.2)\n",
            "Requirement already satisfied: lazy-loader>=0.1 in /usr/local/lib/python3.11/dist-packages (from librosa) (0.4)\n",
            "Requirement already satisfied: msgpack>=1.0 in /usr/local/lib/python3.11/dist-packages (from librosa) (1.1.0)\n",
            "Requirement already satisfied: contourpy>=1.0.1 in /usr/local/lib/python3.11/dist-packages (from matplotlib) (1.3.1)\n",
            "Requirement already satisfied: cycler>=0.10 in /usr/local/lib/python3.11/dist-packages (from matplotlib) (0.12.1)\n",
            "Requirement already satisfied: fonttools>=4.22.0 in /usr/local/lib/python3.11/dist-packages (from matplotlib) (4.56.0)\n",
            "Requirement already satisfied: kiwisolver>=1.3.1 in /usr/local/lib/python3.11/dist-packages (from matplotlib) (1.4.8)\n",
            "Requirement already satisfied: packaging>=20.0 in /usr/local/lib/python3.11/dist-packages (from matplotlib) (24.2)\n",
            "Requirement already satisfied: pillow>=8 in /usr/local/lib/python3.11/dist-packages (from matplotlib) (11.1.0)\n",
            "Requirement already satisfied: pyparsing>=2.3.1 in /usr/local/lib/python3.11/dist-packages (from matplotlib) (3.2.1)\n",
            "Requirement already satisfied: python-dateutil>=2.7 in /usr/local/lib/python3.11/dist-packages (from matplotlib) (2.8.2)\n",
            "Requirement already satisfied: llvmlite<0.45,>=0.44.0dev0 in /usr/local/lib/python3.11/dist-packages (from numba>=0.51.0->librosa) (0.44.0)\n",
            "Requirement already satisfied: pytz>=2020.1 in /usr/local/lib/python3.11/dist-packages (from pandas>=2.2.3->wfdb) (2025.1)\n",
            "Requirement already satisfied: tzdata>=2022.7 in /usr/local/lib/python3.11/dist-packages (from pandas>=2.2.3->wfdb) (2025.1)\n",
            "Requirement already satisfied: platformdirs>=2.5.0 in /usr/local/lib/python3.11/dist-packages (from pooch>=1.1->librosa) (4.3.6)\n",
            "Requirement already satisfied: six>=1.5 in /usr/local/lib/python3.11/dist-packages (from python-dateutil>=2.7->matplotlib) (1.17.0)\n",
            "Requirement already satisfied: charset-normalizer<4,>=2 in /usr/local/lib/python3.11/dist-packages (from requests>=2.8.1->wfdb) (3.4.1)\n",
            "Requirement already satisfied: idna<4,>=2.5 in /usr/local/lib/python3.11/dist-packages (from requests>=2.8.1->wfdb) (3.10)\n",
            "Requirement already satisfied: urllib3<3,>=1.21.1 in /usr/local/lib/python3.11/dist-packages (from requests>=2.8.1->wfdb) (2.3.0)\n",
            "Requirement already satisfied: certifi>=2017.4.17 in /usr/local/lib/python3.11/dist-packages (from requests>=2.8.1->wfdb) (2025.1.31)\n",
            "Requirement already satisfied: threadpoolctl>=3.1.0 in /usr/local/lib/python3.11/dist-packages (from scikit-learn>=0.20.0->librosa) (3.5.0)\n",
            "Requirement already satisfied: cffi>=1.0 in /usr/local/lib/python3.11/dist-packages (from soundfile>=0.10.0->wfdb) (1.17.1)\n",
            "Requirement already satisfied: pycparser in /usr/local/lib/python3.11/dist-packages (from cffi>=1.0->soundfile>=0.10.0->wfdb) (2.22)\n",
            "Downloading wfdb-4.2.0-py3-none-any.whl (162 kB)\n",
            "\u001b[2K   \u001b[90m━━━━━━━━━━━━━━━━━━━━━━━━━━━━━━━━━━━━━━━━\u001b[0m \u001b[32m162.3/162.3 kB\u001b[0m \u001b[31m2.3 MB/s\u001b[0m eta \u001b[36m0:00:00\u001b[0m\n",
            "\u001b[?25hDownloading pandas-2.2.3-cp311-cp311-manylinux_2_17_x86_64.manylinux2014_x86_64.whl (13.1 MB)\n",
            "\u001b[2K   \u001b[90m━━━━━━━━━━━━━━━━━━━━━━━━━━━━━━━━━━━━━━━━\u001b[0m \u001b[32m13.1/13.1 MB\u001b[0m \u001b[31m22.1 MB/s\u001b[0m eta \u001b[36m0:00:00\u001b[0m\n",
            "\u001b[?25hInstalling collected packages: pandas, wfdb\n",
            "  Attempting uninstall: pandas\n",
            "    Found existing installation: pandas 2.2.2\n",
            "    Uninstalling pandas-2.2.2:\n",
            "      Successfully uninstalled pandas-2.2.2\n",
            "\u001b[31mERROR: pip's dependency resolver does not currently take into account all the packages that are installed. This behaviour is the source of the following dependency conflicts.\n",
            "google-colab 1.0.0 requires pandas==2.2.2, but you have pandas 2.2.3 which is incompatible.\u001b[0m\u001b[31m\n",
            "\u001b[0mSuccessfully installed pandas-2.2.3 wfdb-4.2.0\n"
          ]
        }
      ],
      "source": [
        "!pip install wfdb librosa matplotlib\n",
        "\n",
        "import os\n",
        "import zipfile\n",
        "import wfdb\n",
        "import librosa\n",
        "import numpy as np\n",
        "from sklearn.model_selection import train_test_split\n",
        "from sklearn.ensemble import RandomForestClassifier\n",
        "from sklearn.metrics import accuracy_score, classification_report\n",
        "from collections import Counter\n",
        "from imblearn.over_sampling import SMOTE\n",
        "from google.colab import drive\n",
        "from google.colab import drive"
      ]
    },
    {
      "cell_type": "code",
      "source": [
        "# Hubungkan Google Colab dengan Google Drive\n",
        "drive.mount('/content/drive')\n",
        "\n",
        "zip_file_path = '/content/drive/MyDrive/FiturEkstraksi'\n",
        "\n",
        "# extract_dir = '/content/extracted_zip'\n",
        "# os.makedirs(extract_dir, exist_ok=True)\n",
        "\n",
        "# # Ekstrak file zip\n",
        "# with zipfile.ZipFile(zip_file_path, 'r') as zip_ref:\n",
        "#     zip_ref.extractall(extract_dir)\n",
        "# print(\"File yang diekstrak:\")\n",
        "# print(os.listdir(extract_dir))"
      ],
      "metadata": {
        "colab": {
          "base_uri": "https://localhost:8080/"
        },
        "id": "mTxF3rWHaqT-",
        "outputId": "e9e6c1a9-3943-433e-9763-df9b3fbf5760"
      },
      "execution_count": null,
      "outputs": [
        {
          "output_type": "stream",
          "name": "stdout",
          "text": [
            "Mounted at /content/drive\n"
          ]
        }
      ]
    },
    {
      "cell_type": "code",
      "source": [
        "import pandas as pd\n",
        "import os\n",
        "\n",
        "# Direktori untuk menyimpan file gabungan\n",
        "gabungan = '/content/gabunganfitur'\n",
        "os.makedirs(gabungan, exist_ok=True)\n",
        "\n",
        "# Fungsi untuk membaca semua CSV dalam folder dan menyimpannya ke folder gabungan\n",
        "def process_and_save_csv(folder_path, gabungan_folder, prefix):\n",
        "    csv_files = [f for f in os.listdir(folder_path) if f.endswith('.csv')]  # Hanya file CSV\n",
        "    combined_dataframes = []\n",
        "\n",
        "    for csv_file in csv_files:\n",
        "        file_path = os.path.join(folder_path, csv_file)\n",
        "        try:\n",
        "            print(f\"Membaca file: {file_path}\")\n",
        "            df = pd.read_csv(file_path)\n",
        "            combined_dataframes.append(df)\n",
        "        except Exception as e:\n",
        "            print(f\"Gagal membaca file {csv_file}: {e}\")\n",
        "\n",
        "    # Gabungkan semua dataframes dalam folder\n",
        "    if combined_dataframes:\n",
        "        combined_df = pd.concat(combined_dataframes, ignore_index=True)\n",
        "        output_file = os.path.join(gabungan_folder, f'{prefix}.csv')\n",
        "        combined_df.to_csv(output_file, index=False)\n",
        "        print(f\"File gabungan disimpan ke: {output_file}\")\n",
        "    else:\n",
        "        print(f\"Tidak ada file CSV untuk digabungkan di folder: {folder_path}\")\n",
        "\n",
        "# Path folder\n",
        "folder1_path = '/content/drive/MyDrive/FiturEkstraksi/STElevasi'\n",
        "folder2_path = '/content/drive/MyDrive/FiturEkstraksi/AmplitudoRS'\n",
        "folder3_path = '/content/drive/MyDrive/FiturEkstraksi/MIandNormal'\n",
        "folder4_path = '/content/drive/MyDrive/FiturEkstraksi/InversiT'\n",
        "\n",
        "# Proses dan simpan CSV dari Folder 1\n",
        "print(\"\\nProses Folder 1 (STElevasi):\")\n",
        "if os.path.exists(folder1_path):\n",
        "    process_and_save_csv(folder1_path, gabungan, 'STElevasi')\n",
        "else:\n",
        "    print(f\"Folder 1 tidak ditemukan: {folder1_path}\")\n",
        "\n",
        "# Proses dan simpan CSV dari Folder 2\n",
        "print(\"\\nProses Folder 2 (AmplitudoRS):\")\n",
        "if os.path.exists(folder2_path):\n",
        "    process_and_save_csv(folder2_path, gabungan, 'AmplitudoRS')\n",
        "else:\n",
        "    print(f\"Folder 2 tidak ditemukan: {folder2_path}\")\n",
        "\n",
        "# Proses dan simpan CSV dari Folder 3\n",
        "print(\"\\nProses Folder 3 (MIandNormal):\")\n",
        "if os.path.exists(folder3_path):\n",
        "    process_and_save_csv(folder3_path, gabungan, 'MIandNormal')\n",
        "else:\n",
        "    print(f\"Folder 3 tidak ditemukan: {folder3_path}\")\n",
        "\n",
        "print(\"\\nProses Folder 4 (InversiT):\")\n",
        "if os.path.exists(folder3_path):\n",
        "    process_and_save_csv(folder4_path, gabungan, 'InversiT')\n",
        "else:\n",
        "    print(f\"Folder 4 tidak ditemukan: {folder3_path}\")\n"
      ],
      "metadata": {
        "colab": {
          "base_uri": "https://localhost:8080/"
        },
        "id": "oIHRRiar9xz1",
        "outputId": "e7459ce0-7b3b-4c5d-ed49-b345ce349b2c"
      },
      "execution_count": null,
      "outputs": [
        {
          "output_type": "stream",
          "name": "stdout",
          "text": [
            "\n",
            "Proses Folder 1 (STElevasi):\n",
            "Membaca file: /content/drive/MyDrive/FiturEkstraksi/STElevasi/st_elevations_features.csv\n",
            "File gabungan disimpan ke: /content/gabunganfitur/STElevasi.csv\n",
            "\n",
            "Proses Folder 2 (AmplitudoRS):\n",
            "Membaca file: /content/drive/MyDrive/FiturEkstraksi/AmplitudoRS/rs_features_full.csv\n",
            "File gabungan disimpan ke: /content/gabunganfitur/AmplitudoRS.csv\n",
            "\n",
            "Proses Folder 3 (MIandNormal):\n",
            "Membaca file: /content/drive/MyDrive/FiturEkstraksi/MIandNormal/ecg_mi_vs_normal_dataset.csv\n",
            "File gabungan disimpan ke: /content/gabunganfitur/MIandNormal.csv\n",
            "\n",
            "Proses Folder 4 (InversiT):\n",
            "Membaca file: /content/drive/MyDrive/FiturEkstraksi/InversiT/t_inversion_features.csv\n",
            "File gabungan disimpan ke: /content/gabunganfitur/InversiT.csv\n"
          ]
        }
      ]
    },
    {
      "cell_type": "code",
      "source": [
        "!pip install niapy"
      ],
      "metadata": {
        "colab": {
          "base_uri": "https://localhost:8080/"
        },
        "id": "j2YD5Ea-HIUO",
        "outputId": "9f8db06d-22e1-40af-e9c9-fff293de8dc8"
      },
      "execution_count": null,
      "outputs": [
        {
          "output_type": "stream",
          "name": "stdout",
          "text": [
            "Collecting niapy\n",
            "  Downloading niapy-2.5.2-py3-none-any.whl.metadata (23 kB)\n",
            "Requirement already satisfied: matplotlib<4.0.0,>=3.8.0 in /usr/local/lib/python3.11/dist-packages (from niapy) (3.10.0)\n",
            "Requirement already satisfied: numpy<2.0.0,>=1.26.1 in /usr/local/lib/python3.11/dist-packages (from niapy) (1.26.4)\n",
            "Requirement already satisfied: openpyxl<4.0.0,>=3.1.2 in /usr/local/lib/python3.11/dist-packages (from niapy) (3.1.5)\n",
            "Requirement already satisfied: pandas<3.0.0,>=2.1.1 in /usr/local/lib/python3.11/dist-packages (from niapy) (2.2.3)\n",
            "Requirement already satisfied: contourpy>=1.0.1 in /usr/local/lib/python3.11/dist-packages (from matplotlib<4.0.0,>=3.8.0->niapy) (1.3.1)\n",
            "Requirement already satisfied: cycler>=0.10 in /usr/local/lib/python3.11/dist-packages (from matplotlib<4.0.0,>=3.8.0->niapy) (0.12.1)\n",
            "Requirement already satisfied: fonttools>=4.22.0 in /usr/local/lib/python3.11/dist-packages (from matplotlib<4.0.0,>=3.8.0->niapy) (4.56.0)\n",
            "Requirement already satisfied: kiwisolver>=1.3.1 in /usr/local/lib/python3.11/dist-packages (from matplotlib<4.0.0,>=3.8.0->niapy) (1.4.8)\n",
            "Requirement already satisfied: packaging>=20.0 in /usr/local/lib/python3.11/dist-packages (from matplotlib<4.0.0,>=3.8.0->niapy) (24.2)\n",
            "Requirement already satisfied: pillow>=8 in /usr/local/lib/python3.11/dist-packages (from matplotlib<4.0.0,>=3.8.0->niapy) (11.1.0)\n",
            "Requirement already satisfied: pyparsing>=2.3.1 in /usr/local/lib/python3.11/dist-packages (from matplotlib<4.0.0,>=3.8.0->niapy) (3.2.1)\n",
            "Requirement already satisfied: python-dateutil>=2.7 in /usr/local/lib/python3.11/dist-packages (from matplotlib<4.0.0,>=3.8.0->niapy) (2.8.2)\n",
            "Requirement already satisfied: et-xmlfile in /usr/local/lib/python3.11/dist-packages (from openpyxl<4.0.0,>=3.1.2->niapy) (2.0.0)\n",
            "Requirement already satisfied: pytz>=2020.1 in /usr/local/lib/python3.11/dist-packages (from pandas<3.0.0,>=2.1.1->niapy) (2025.1)\n",
            "Requirement already satisfied: tzdata>=2022.7 in /usr/local/lib/python3.11/dist-packages (from pandas<3.0.0,>=2.1.1->niapy) (2025.1)\n",
            "Requirement already satisfied: six>=1.5 in /usr/local/lib/python3.11/dist-packages (from python-dateutil>=2.7->matplotlib<4.0.0,>=3.8.0->niapy) (1.17.0)\n",
            "Downloading niapy-2.5.2-py3-none-any.whl (187 kB)\n",
            "\u001b[2K   \u001b[90m━━━━━━━━━━━━━━━━━━━━━━━━━━━━━━━━━━━━━━━━\u001b[0m \u001b[32m188.0/188.0 kB\u001b[0m \u001b[31m3.5 MB/s\u001b[0m eta \u001b[36m0:00:00\u001b[0m\n",
            "\u001b[?25hInstalling collected packages: niapy\n",
            "Successfully installed niapy-2.5.2\n"
          ]
        }
      ]
    },
    {
      "cell_type": "code",
      "source": [
        "# import pandas as pd\n",
        "# from sklearn.model_selection import train_test_split\n",
        "# from sklearn.svm import SVC\n",
        "# from sklearn.metrics import accuracy_score, classification_report\n",
        "# from sklearn.preprocessing import StandardScaler\n",
        "# from imblearn.over_sampling import SMOTE\n",
        "\n",
        "# # Baca dataset ST-elevasi, amplitudo RS, dan kelas multiklas\n",
        "# st_dataset = pd.read_csv('/content/gabunganfitur/STElevasi.csv')  # Dataset fitur ST-elevasi\n",
        "# rs_dataset = pd.read_csv('/content/gabunganfitur/AmplitudoRS.csv')  # Dataset fitur RS\n",
        "# class_dataset = pd.read_csv('/content/gabunganfitur/MIandNormal.csv')  # Dataset kelas multiklas\n",
        "\n",
        "# # Hilangkan '.hea' dari kolom patient_id di amplitudo RS\n",
        "# rs_dataset['patient_id'] = rs_dataset['patient_id'].str.replace('.hea', '', regex=False).str.strip()\n",
        "\n",
        "# # Rename kolom 'Record Name' menjadi 'patient_id' untuk konsistensi\n",
        "# st_dataset = st_dataset.rename(columns={'Record Name': 'patient_id'})\n",
        "# class_dataset = class_dataset.rename(columns={'Record Name': 'patient_id'})\n",
        "\n",
        "# # Gabungkan dataset berdasarkan kolom 'patient_id'\n",
        "# merged_dataset = pd.merge(st_dataset, rs_dataset, on='patient_id', how='inner')\n",
        "# merged_dataset = pd.merge(merged_dataset, class_dataset, on='patient_id', how='inner')\n",
        "\n",
        "# # Pisahkan fitur (X) dan label (y)\n",
        "# X = merged_dataset[['st_mean', 'st_std', 'st_max', 'st_min', 'st_range',\n",
        "#                     'Mean_RS', 'Max_RS', 'Min_RS', 'Std_RS']]  # Gabungan fitur\n",
        "# y = merged_dataset['Class']  # Target label (kelas multiklas)\n",
        "\n",
        "# # Split data menjadi training dan testing set\n",
        "# X_train, X_test, y_train, y_test = train_test_split(X, y, test_size=0.2, random_state=42)\n",
        "\n",
        "# # Terapkan SMOTE untuk menangani ketidakseimbangan kelas pada data pelatihan\n",
        "# smote = SMOTE(random_state=42)\n",
        "# X_train_resampled, y_train_resampled = smote.fit_resample(X_train, y_train)\n",
        "\n",
        "# # Standarisasi fitur\n",
        "# scaler = StandardScaler()\n",
        "# X_train_resampled = scaler.fit_transform(X_train_resampled)\n",
        "# X_test = scaler.transform(X_test)\n",
        "\n",
        "# # Inisialisasi dan training model SVM\n",
        "# model = SVC(C= 100.0, kernel= 'rbf', gamma= 0.9824819005302686)\n",
        "# model.fit(X_train_resampled, y_train_resampled)\n",
        "\n",
        "# # Prediksi pada data testing\n",
        "# y_pred = model.predict(X_test)\n",
        "\n",
        "# # Evaluasi performa model\n",
        "# print(f\"Akurasi: {accuracy_score(y_test, y_pred) * 100:.2f}%\")\n",
        "# print(\"Laporan Klasifikasi:\")\n",
        "# print(classification_report(y_test, y_pred, zero_division=0))\n"
      ],
      "metadata": {
        "id": "JayM4Ax8L3Iq"
      },
      "execution_count": null,
      "outputs": []
    },
    {
      "cell_type": "code",
      "source": [
        "# from sklearn.metrics import confusion_matrix, ConfusionMatrixDisplay\n",
        "# import matplotlib.pyplot as plt\n",
        "\n",
        "# conf_matrix = confusion_matrix(y_test, y_pred)\n",
        "# disp = ConfusionMatrixDisplay(confusion_matrix=conf_matrix, display_labels=model.classes_)\n",
        "# disp.plot(cmap='Blues')\n",
        "# plt.show()"
      ],
      "metadata": {
        "id": "MfLEh6E--WAb"
      },
      "execution_count": null,
      "outputs": []
    },
    {
      "cell_type": "code",
      "source": [
        "import pandas as pd\n",
        "from sklearn.model_selection import train_test_split, GridSearchCV\n",
        "from sklearn.svm import SVC\n",
        "from sklearn.metrics import accuracy_score, classification_report, confusion_matrix\n",
        "from sklearn.preprocessing import StandardScaler\n",
        "from imblearn.over_sampling import SMOTE\n",
        "\n",
        "# Baca dataset ST-elevasi, amplitudo RS, dan kelas multiklas\n",
        "st_dataset = pd.read_csv('/content/gabunganfitur/STElevasi.csv')  # Dataset fitur ST-elevasi\n",
        "rs_dataset = pd.read_csv('/content/gabunganfitur/AmplitudoRS.csv')  # Dataset fitur RS\n",
        "t_dataset = pd.read_csv('/content/gabunganfitur/InversiT.csv')  # Dataset fitur T\n",
        "class_dataset = pd.read_csv('/content/gabunganfitur/MIandNormal.csv')  # Dataset kelas multiklas\n",
        "\n",
        "# Hilangkan '.hea' dari kolom patient_id di amplitudo RS\n",
        "rs_dataset['patient_id'] = rs_dataset['patient_id'].str.replace('.hea', '', regex=False).str.strip()\n",
        "\n",
        "# Rename kolom 'Record Name' menjadi 'patient_id' untuk konsistensi\n",
        "st_dataset = st_dataset.rename(columns={'Record Name': 'patient_id'})\n",
        "t_dataset = t_dataset.rename(columns={'Patient': 'patient_id'})\n",
        "class_dataset = class_dataset.rename(columns={'Record Name': 'patient_id'})\n",
        "\n",
        "# Gabungkan dataset berdasarkan kolom 'patient_id'\n",
        "# Gabungkan dataset berdasarkan kolom 'patient_id' secara bertahap\n",
        "merged_dataset = pd.merge(st_dataset, rs_dataset, on='patient_id', how='inner')\n",
        "merged_dataset = pd.merge(merged_dataset, t_dataset, on='patient_id', how='inner')\n",
        "merged_dataset = pd.merge(merged_dataset, class_dataset, on='patient_id', how='inner')\n",
        "\n",
        "\n",
        "# Pisahkan fitur (X) dan label (y)\n",
        "X = merged_dataset[['st_mean', 'st_std', 'st_max', 'st_min', 'st_range',\n",
        "                    'Mean_RS', 'Max_RS', 'Min_RS', 'Std_RS', 'T_Inversion_Count', 'T_Inversion_Binary']]  # Gabungan fitur\n",
        "y = merged_dataset['Class']  # Target label (kelas multiklas)\n",
        "\n",
        "# # 4. Hitung distribusi kelas sebelum split\n",
        "# print(\"Distribusi Kelas Sebelum Split:\")\n",
        "# print(y.value_counts())\n",
        "\n",
        "# 5. Split data menjadi training dan testing set\n",
        "X_train, X_test, y_train, y_test = train_test_split(X, y, test_size=0.2, random_state=42, stratify=y)\n",
        "\n",
        "# # 6. Hitung distribusi kelas setelah split\n",
        "# print(\"Distribusi Kelas Setelah Split:\")\n",
        "# print(\"Training Set:\")\n",
        "# print(y_train.value_counts())\n",
        "# print(\"Testing Set:\")\n",
        "# print(y_test.value_counts())\n",
        "\n",
        "# 7. Terapkan SMOTE untuk menyeimbangkan kelas pada data pelatihan\n",
        "smote = SMOTE(random_state=42)\n",
        "X_train_resampled, y_train_resampled = smote.fit_resample(X_train, y_train)\n",
        "\n",
        "# 8. Standarisasi fitur\n",
        "scaler = StandardScaler()\n",
        "X_train_resampled = scaler.fit_transform(X_train_resampled)\n",
        "X_test = scaler.transform(X_test)\n",
        "\n",
        "# 9. Optimasi parameter SVM menggunakan GridSearchCV\n",
        "param_grid = {\n",
        "    'C': [0.01, 0.1, 1, 10],\n",
        "    'gamma': [0.01, 0.1, 1, 'scale'],\n",
        "    'kernel': ['rbf'],\n",
        "    'class_weight': ['balanced', None]\n",
        "}\n",
        "\n",
        "grid_search = GridSearchCV(SVC(probability=True), param_grid, cv=5, scoring='f1_macro')\n",
        "grid_search.fit(X_train_resampled, y_train_resampled)\n",
        "\n",
        "# 10. Model terbaik dari GridSearch\n",
        "best_model = grid_search.best_estimator_\n",
        "print(f\"Best Model Parameters: {grid_search.best_params_}\")\n",
        "\n",
        "# 11. Prediksi pada set pengujian\n",
        "y_pred = best_model.predict(X_test)\n",
        "\n",
        "# 12. Evaluasi akurasi\n",
        "accuracy = accuracy_score(y_test, y_pred)\n",
        "print(f\"Akurasi: {accuracy * 100:.2f}%\")\n",
        "\n",
        "# 13. Laporan klasifikasi\n",
        "report = classification_report(y_test, y_pred, zero_division=0)\n",
        "print(\"Laporan Klasifikasi:\")\n",
        "print(report)\n",
        "\n",
        "# 14. Analisis confusion matrix\n",
        "cm = confusion_matrix(y_test, y_pred)\n",
        "print(\"Confusion Matrix (Testing Set):\")\n",
        "print(cm)\n",
        "\n",
        "# 15. Perhitungan sensitivitas, spesifisitas, dan F1-score\n",
        "# Sensitivitas (Recall untuk kelas 1)\n",
        "sensitivity = cm[1, 1] / (cm[1, 0] + cm[1, 1]) if (cm[1, 0] + cm[1, 1]) != 0 else 0\n",
        "\n",
        "# Spesifisitas (Recall untuk kelas 0)\n",
        "specificity = cm[0, 0] / (cm[0, 0] + cm[0, 1]) if (cm[0, 0] + cm[0, 1]) != 0 else 0\n",
        "\n",
        "# F1 Score makro (rata-rata antar kelas)\n",
        "f1_scores = classification_report(y_test, y_pred, output_dict=True, zero_division=0)['macro avg']['f1-score']\n",
        "\n",
        "# Cetak hasil evaluasi\n",
        "print(f\"\\nHasil Evaluasi:\")\n",
        "print(f\"Akurasi: {accuracy * 100:.2f}%\")\n",
        "print(f\"Sensitivitas (Recall Kelas 1): {sensitivity:.2f}\")\n",
        "print(f\"Spesifisitas (Recall Kelas 0): {specificity:.2f}\")\n",
        "print(f\"F1 Score (Macro Average): {f1_scores:.2f}\")\n"
      ],
      "metadata": {
        "colab": {
          "base_uri": "https://localhost:8080/"
        },
        "id": "4b2tLHCD6Vq_",
        "outputId": "490c4b81-558d-4f40-9aaa-e2501b60af1a"
      },
      "execution_count": null,
      "outputs": [
        {
          "output_type": "stream",
          "name": "stdout",
          "text": [
            "Best Model Parameters: {'C': 10, 'class_weight': 'balanced', 'gamma': 1, 'kernel': 'rbf'}\n",
            "Akurasi: 91.69%\n",
            "Laporan Klasifikasi:\n",
            "              precision    recall  f1-score   support\n",
            "\n",
            "           0       0.79      0.78      0.78       160\n",
            "           1       0.95      0.95      0.95       658\n",
            "\n",
            "    accuracy                           0.92       818\n",
            "   macro avg       0.87      0.86      0.87       818\n",
            "weighted avg       0.92      0.92      0.92       818\n",
            "\n",
            "Confusion Matrix (Testing Set):\n",
            "[[124  36]\n",
            " [ 32 626]]\n",
            "\n",
            "Hasil Evaluasi:\n",
            "Akurasi: 91.69%\n",
            "Sensitivitas (Recall Kelas 1): 0.95\n",
            "Spesifisitas (Recall Kelas 0): 0.78\n",
            "F1 Score (Macro Average): 0.87\n"
          ]
        }
      ]
    },
    {
      "cell_type": "code",
      "source": [
        "# Menghitung class-wise accuracy\n",
        "class_0_accuracy = cm[0, 0] / (cm[0, 0] + cm[0, 1]) if (cm[0, 0] + cm[0, 1]) != 0 else 0\n",
        "class_1_accuracy = cm[1, 1] / (cm[1, 0] + cm[1, 1]) if (cm[1, 0] + cm[1, 1]) != 0 else 0\n",
        "\n",
        "# Menampilkan hasil class-wise accuracy\n",
        "print(f\"Akurasi Kelas 0 (Normal): {class_0_accuracy * 100:.2f}%\")\n",
        "print(f\"Akurasi Kelas 1 (Infark Miokard): {class_1_accuracy * 100:.2f}%\")"
      ],
      "metadata": {
        "id": "dyxnQkwbvVNf",
        "outputId": "f249928b-5e03-414f-8f49-770c4aaa35e7",
        "colab": {
          "base_uri": "https://localhost:8080/"
        }
      },
      "execution_count": null,
      "outputs": [
        {
          "output_type": "stream",
          "name": "stdout",
          "text": [
            "Akurasi Kelas 0 (Normal): 77.50%\n",
            "Akurasi Kelas 1 (Infark Miokard): 95.14%\n"
          ]
        }
      ]
    },
    {
      "cell_type": "code",
      "source": [
        "# Cetak hasil evaluasi\n",
        "print(f\"\\nHasil Evaluasi:\")\n",
        "print(f\"Akurasi: {accuracy * 100:.2f}%\")\n",
        "print(f\"Sensitivitas (Recall Kelas 1): {sensitivity * 100:.2f}\")\n",
        "print(f\"Spesifisitas (Recall Kelas 0): {specificity* 100:.2f}\")\n",
        "print(f\"F1 Score (Macro Average): {f1_scores* 100:.2f}\")"
      ],
      "metadata": {
        "colab": {
          "base_uri": "https://localhost:8080/"
        },
        "id": "z4XCg8keYUYG",
        "outputId": "e1590357-6a16-4262-e06a-fb43eaf4f7e8"
      },
      "execution_count": null,
      "outputs": [
        {
          "metadata": {
            "tags": null
          },
          "name": "stdout",
          "output_type": "stream",
          "text": [
            "\n",
            "Hasil Evaluasi:\n",
            "Akurasi: 91.69%\n",
            "Sensitivitas (Recall Kelas 1): 95.14\n",
            "Spesifisitas (Recall Kelas 0): 77.50\n",
            "F1 Score (Macro Average): 86.66\n"
          ]
        }
      ]
    },
    {
      "cell_type": "code",
      "source": [
        "print(f\"Total data: {len(X)}\")\n",
        "print(f\"Training data: {len(X_train)}\")\n",
        "print(f\"Testing data: {len(X_test)}\")\n"
      ],
      "metadata": {
        "colab": {
          "base_uri": "https://localhost:8080/"
        },
        "id": "fKe0JDXvB28L",
        "outputId": "1fa4e513-b97a-47e4-8d0d-b7dfa4c6b85c"
      },
      "execution_count": null,
      "outputs": [
        {
          "output_type": "stream",
          "name": "stdout",
          "text": [
            "Total data: 4089\n",
            "Training data: 3271\n",
            "Testing data: 818\n"
          ]
        }
      ]
    },
    {
      "cell_type": "code",
      "source": [
        "from sklearn.metrics import confusion_matrix, ConfusionMatrixDisplay\n",
        "import matplotlib.pyplot as plt\n",
        "\n",
        "# Buat confusion matrix\n",
        "conf_matrix = confusion_matrix(y_test, y_pred)\n",
        "\n",
        "# Tampilkan confusion matrix\n",
        "disp = ConfusionMatrixDisplay(confusion_matrix=conf_matrix, display_labels=best_model.classes_)\n",
        "disp.plot(cmap='Blues')\n",
        "plt.title('Confusion Matrix ST-elevation + R/S amplitude')\n",
        "plt.show()\n"
      ],
      "metadata": {
        "colab": {
          "base_uri": "https://localhost:8080/",
          "height": 472
        },
        "id": "TwBUtWSf-Ndp",
        "outputId": "3db574ac-04a3-40bb-e8f9-c9aeeb2bd272"
      },
      "execution_count": null,
      "outputs": [
        {
          "output_type": "display_data",
          "data": {
            "text/plain": [
              "<Figure size 640x480 with 2 Axes>"
            ],
            "image/png": "[encoded data removed]"
          },
          "metadata": {}
        }
      ]
    },
    {
      "cell_type": "code",
      "source": [
        "# import pandas as pd\n",
        "# import numpy as np\n",
        "# from sklearn.model_selection import train_test_split\n",
        "# from sklearn.svm import SVC\n",
        "# from sklearn.metrics import accuracy_score, classification_report\n",
        "# from sklearn.preprocessing import StandardScaler\n",
        "# from imblearn.over_sampling import SMOTE\n",
        "# from niapy.problems import Problem\n",
        "# from niapy.task import OptimizationType, Task\n",
        "# from niapy.algorithms.basic import ParticleSwarmAlgorithm\n",
        "\n",
        "# # Fungsi untuk mendapatkan hyperparameter dari nilai partikel\n",
        "# def get_hyperparameters(x):\n",
        "#     C = 10 ** x[0]\n",
        "#     kernel = 'rbf' if x[1] >= 0.5 else 'linear'\n",
        "#     gamma = 10 ** x[2]\n",
        "#     return {'C': C, 'kernel': kernel, 'gamma': gamma}\n",
        "\n",
        "# def get_classifier(x):\n",
        "#     params = get_hyperparameters(x)\n",
        "#     return SVC(**params)\n",
        "\n",
        "# # Definisi masalah optimasi untuk SVM\n",
        "# class SVMHyperparameterOptimization(Problem):\n",
        "#     def __init__(self, X_train, y_train, X_test, y_test):\n",
        "#         super().__init__(dimension=3, lower=[-1, 0, -1], upper=[2, 1, 2])  # C, kernel (binary), gamma\n",
        "#         self.X_train = X_train\n",
        "#         self.y_train = y_train\n",
        "#         self.X_test = X_test\n",
        "#         self.y_test = y_test\n",
        "\n",
        "#     def _evaluate(self, x):\n",
        "#         model = get_classifier(x)\n",
        "#         model.fit(self.X_train, self.y_train)\n",
        "#         y_pred = model.predict(self.X_test)\n",
        "#         accuracy = accuracy_score(self.y_test, y_pred)\n",
        "#         return -accuracy  # Negasikan akurasi untuk tujuan minimisasi\n",
        "\n",
        "# # Langkah 1: Baca dataset fitur ST-elevasi, amplitudo RS, dan dataset kelas multiklas\n",
        "# st_dataset = pd.read_csv('/content/gabunganfitur/STElevasi.csv')  # Dataset fitur ST-elevasi\n",
        "# rs_dataset = pd.read_csv('/content/gabunganfitur/AmplitudoRS.csv')  # Dataset fitur RS\n",
        "# class_dataset = pd.read_csv('/content/gabunganfitur/MIandNormal.csv')  # Dataset kelas multiklas\n",
        "\n",
        "# # Hilangkan '.hea' dari kolom patient_id di dataset Amplitudo RS\n",
        "# rs_dataset['patient_id'] = rs_dataset['patient_id'].str.replace('.hea', '', regex=False).str.strip()\n",
        "\n",
        "# # Rename kolom 'Record Name' menjadi 'patient_id' di semua dataset untuk konsistensi\n",
        "# st_dataset = st_dataset.rename(columns={'Record Name': 'patient_id'})\n",
        "# class_dataset = class_dataset.rename(columns={'Record Name': 'patient_id'})\n",
        "\n",
        "# # Bersihkan kolom 'patient_id' agar konsisten\n",
        "# st_dataset['patient_id'] = st_dataset['patient_id'].str.strip().str.lower()\n",
        "# rs_dataset['patient_id'] = rs_dataset['patient_id'].str.strip().str.lower()\n",
        "# class_dataset['patient_id'] = class_dataset['patient_id'].str.strip().str.lower()\n",
        "\n",
        "# # Langkah 2: Gabungkan dataset berdasarkan 'patient_id'\n",
        "# merged_data = st_dataset.merge(rs_dataset, on='patient_id', how='inner')\n",
        "# merged_data = merged_data.merge(class_dataset, on='patient_id', how='inner')\n",
        "\n",
        "# # Langkah 3: Pisahkan fitur dan label\n",
        "# X = merged_data[['st_mean', 'st_std', 'st_max', 'st_min', 'st_range',\n",
        "#                  'Mean_RS', 'Max_RS', 'Min_RS', 'Std_RS']]  # Gabungan fitur\n",
        "# y = merged_data['Class']  # Target label (multiklas)\n",
        "\n",
        "# # Split data menjadi training dan testing set\n",
        "# X_train, X_test, y_train, y_test = train_test_split(X, y, test_size=0.2, random_state=42)\n",
        "\n",
        "# # Terapkan SMOTE untuk menyeimbangkan kelas pada data pelatihan\n",
        "# smote = SMOTE(random_state=42)\n",
        "# X_train_resampled, y_train_resampled = smote.fit_resample(X_train, y_train)\n",
        "\n",
        "# # Standarisasi fitur\n",
        "# scaler = StandardScaler()\n",
        "# X_train_resampled = scaler.fit_transform(X_train_resampled)\n",
        "# X_test = scaler.transform(X_test)\n",
        "\n",
        "# # Inisialisasi dan jalankan optimisasi hyperparameter\n",
        "# problem = SVMHyperparameterOptimization(X_train_resampled, y_train_resampled, X_test, y_test)\n",
        "# task = Task(problem, max_iters=50, optimization_type=OptimizationType.MINIMIZATION)\n",
        "# algorithm = ParticleSwarmAlgorithm(population_size=20, seed=1234)\n",
        "\n",
        "# best_params, best_accuracy = algorithm.run(task)\n",
        "\n",
        "# # Tampilkan hasil optimasi\n",
        "# print('Best parameters:', get_hyperparameters(best_params))\n",
        "# print('Best accuracy:', -best_accuracy)\n",
        "\n",
        "# # Evaluasi model terbaik\n",
        "# best_model = get_classifier(best_params)\n",
        "# best_model.fit(X_train_resampled, y_train_resampled)\n",
        "# y_pred = best_model.predict(X_test)\n",
        "\n",
        "# print(f\"Akurasi Model Terbaik: {accuracy_score(y_test, y_pred) * 100:.2f}%\")\n",
        "# print(\"Laporan Klasifikasi:\")\n",
        "# print(classification_report(y_test, y_pred, zero_division=0))\n"
      ],
      "metadata": {
        "id": "Fjg8CyE1Gzz3"
      },
      "execution_count": null,
      "outputs": []
    }
  ]
}