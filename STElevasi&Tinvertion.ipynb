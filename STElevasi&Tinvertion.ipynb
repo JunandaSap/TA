{
  "nbformat": 4,
  "nbformat_minor": 0,
  "metadata": {
    "colab": {
      "provenance": [],
      "include_colab_link": true
    },
    "kernelspec": {
      "name": "python3",
      "display_name": "Python 3"
    },
    "language_info": {
      "name": "python"
    }
  },
  "cells": [
    {
      "cell_type": "markdown",
      "metadata": {
        "id": "view-in-github",
        "colab_type": "text"
      },
      "source": [
        "<a href=\"https://colab.research.google.com/github/JunandaSap/TA/blob/main/STElevasi%26Tinvertion.ipynb\" target=\"_parent\"><img src=\"https://colab.research.google.com/assets/colab-badge.svg\" alt=\"Open In Colab\"/></a>"
      ]
    },
    {
      "cell_type": "code",
      "execution_count": null,
      "metadata": {
        "colab": {
          "base_uri": "https://localhost:8080/"
        },
        "id": "nIvyNi-qRyg2",
        "outputId": "6d1d9c7b-6c1c-40af-e6df-6a073da0fcef"
      },
      "outputs": [
        {
          "output_type": "stream",
          "name": "stdout",
          "text": [
            "Requirement already satisfied: wfdb in /usr/local/lib/python3.10/dist-packages (4.1.2)\n",
            "Requirement already satisfied: librosa in /usr/local/lib/python3.10/dist-packages (0.10.2.post1)\n",
            "Requirement already satisfied: matplotlib in /usr/local/lib/python3.10/dist-packages (3.8.0)\n",
            "Requirement already satisfied: SoundFile>=0.10.0 in /usr/local/lib/python3.10/dist-packages (from wfdb) (0.12.1)\n",
            "Requirement already satisfied: numpy>=1.10.1 in /usr/local/lib/python3.10/dist-packages (from wfdb) (1.26.4)\n",
            "Requirement already satisfied: pandas>=1.3.0 in /usr/local/lib/python3.10/dist-packages (from wfdb) (2.2.2)\n",
            "Requirement already satisfied: requests>=2.8.1 in /usr/local/lib/python3.10/dist-packages (from wfdb) (2.32.3)\n",
            "Requirement already satisfied: scipy>=1.0.0 in /usr/local/lib/python3.10/dist-packages (from wfdb) (1.13.1)\n",
            "Requirement already satisfied: audioread>=2.1.9 in /usr/local/lib/python3.10/dist-packages (from librosa) (3.0.1)\n",
            "Requirement already satisfied: scikit-learn>=0.20.0 in /usr/local/lib/python3.10/dist-packages (from librosa) (1.6.0)\n",
            "Requirement already satisfied: joblib>=0.14 in /usr/local/lib/python3.10/dist-packages (from librosa) (1.4.2)\n",
            "Requirement already satisfied: decorator>=4.3.0 in /usr/local/lib/python3.10/dist-packages (from librosa) (4.4.2)\n",
            "Requirement already satisfied: numba>=0.51.0 in /usr/local/lib/python3.10/dist-packages (from librosa) (0.60.0)\n",
            "Requirement already satisfied: pooch>=1.1 in /usr/local/lib/python3.10/dist-packages (from librosa) (1.8.2)\n",
            "Requirement already satisfied: soxr>=0.3.2 in /usr/local/lib/python3.10/dist-packages (from librosa) (0.5.0.post1)\n",
            "Requirement already satisfied: typing-extensions>=4.1.1 in /usr/local/lib/python3.10/dist-packages (from librosa) (4.12.2)\n",
            "Requirement already satisfied: lazy-loader>=0.1 in /usr/local/lib/python3.10/dist-packages (from librosa) (0.4)\n",
            "Requirement already satisfied: msgpack>=1.0 in /usr/local/lib/python3.10/dist-packages (from librosa) (1.1.0)\n",
            "Requirement already satisfied: contourpy>=1.0.1 in /usr/local/lib/python3.10/dist-packages (from matplotlib) (1.3.1)\n",
            "Requirement already satisfied: cycler>=0.10 in /usr/local/lib/python3.10/dist-packages (from matplotlib) (0.12.1)\n",
            "Requirement already satisfied: fonttools>=4.22.0 in /usr/local/lib/python3.10/dist-packages (from matplotlib) (4.55.3)\n",
            "Requirement already satisfied: kiwisolver>=1.0.1 in /usr/local/lib/python3.10/dist-packages (from matplotlib) (1.4.7)\n",
            "Requirement already satisfied: packaging>=20.0 in /usr/local/lib/python3.10/dist-packages (from matplotlib) (24.2)\n",
            "Requirement already satisfied: pillow>=6.2.0 in /usr/local/lib/python3.10/dist-packages (from matplotlib) (11.0.0)\n",
            "Requirement already satisfied: pyparsing>=2.3.1 in /usr/local/lib/python3.10/dist-packages (from matplotlib) (3.2.0)\n",
            "Requirement already satisfied: python-dateutil>=2.7 in /usr/local/lib/python3.10/dist-packages (from matplotlib) (2.8.2)\n",
            "Requirement already satisfied: llvmlite<0.44,>=0.43.0dev0 in /usr/local/lib/python3.10/dist-packages (from numba>=0.51.0->librosa) (0.43.0)\n",
            "Requirement already satisfied: pytz>=2020.1 in /usr/local/lib/python3.10/dist-packages (from pandas>=1.3.0->wfdb) (2024.2)\n",
            "Requirement already satisfied: tzdata>=2022.7 in /usr/local/lib/python3.10/dist-packages (from pandas>=1.3.0->wfdb) (2024.2)\n",
            "Requirement already satisfied: platformdirs>=2.5.0 in /usr/local/lib/python3.10/dist-packages (from pooch>=1.1->librosa) (4.3.6)\n",
            "Requirement already satisfied: six>=1.5 in /usr/local/lib/python3.10/dist-packages (from python-dateutil>=2.7->matplotlib) (1.17.0)\n",
            "Requirement already satisfied: charset-normalizer<4,>=2 in /usr/local/lib/python3.10/dist-packages (from requests>=2.8.1->wfdb) (3.4.0)\n",
            "Requirement already satisfied: idna<4,>=2.5 in /usr/local/lib/python3.10/dist-packages (from requests>=2.8.1->wfdb) (3.10)\n",
            "Requirement already satisfied: urllib3<3,>=1.21.1 in /usr/local/lib/python3.10/dist-packages (from requests>=2.8.1->wfdb) (2.2.3)\n",
            "Requirement already satisfied: certifi>=2017.4.17 in /usr/local/lib/python3.10/dist-packages (from requests>=2.8.1->wfdb) (2024.12.14)\n",
            "Requirement already satisfied: threadpoolctl>=3.1.0 in /usr/local/lib/python3.10/dist-packages (from scikit-learn>=0.20.0->librosa) (3.5.0)\n",
            "Requirement already satisfied: cffi>=1.0 in /usr/local/lib/python3.10/dist-packages (from SoundFile>=0.10.0->wfdb) (1.17.1)\n",
            "Requirement already satisfied: pycparser in /usr/local/lib/python3.10/dist-packages (from cffi>=1.0->SoundFile>=0.10.0->wfdb) (2.22)\n"
          ]
        }
      ],
      "source": [
        "!pip install wfdb librosa matplotlib\n",
        "\n",
        "import os\n",
        "import zipfile\n",
        "import wfdb\n",
        "import librosa\n",
        "import numpy as np\n",
        "from sklearn.model_selection import train_test_split\n",
        "from sklearn.ensemble import RandomForestClassifier\n",
        "from sklearn.metrics import accuracy_score, classification_report\n",
        "from collections import Counter\n",
        "from imblearn.over_sampling import SMOTE\n",
        "from google.colab import drive\n",
        "from google.colab import drive"
      ]
    },
    {
      "cell_type": "code",
      "source": [
        "# Hubungkan Google Colab dengan Google Drive\n",
        "drive.mount('/content/drive')\n",
        "\n",
        "zip_file_path = '/content/drive/MyDrive/FiturEkstraksi'"
      ],
      "metadata": {
        "colab": {
          "base_uri": "https://localhost:8080/"
        },
        "id": "IyjQy6fQSsNo",
        "outputId": "ccf31083-d645-4fa9-ed49-ddc38e0df707"
      },
      "execution_count": null,
      "outputs": [
        {
          "output_type": "stream",
          "name": "stdout",
          "text": [
            "Mounted at /content/drive\n"
          ]
        }
      ]
    },
    {
      "cell_type": "code",
      "source": [
        "import pandas as pd\n",
        "import os\n",
        "\n",
        "# Direktori untuk menyimpan file gabungan\n",
        "gabungan = '/content/gabunganfitur'\n",
        "os.makedirs(gabungan, exist_ok=True)\n",
        "\n",
        "# Fungsi untuk membaca semua CSV dalam folder dan menyimpannya ke folder gabungan\n",
        "def process_and_save_csv(folder_path, gabungan_folder, prefix):\n",
        "    csv_files = [f for f in os.listdir(folder_path) if f.endswith('.csv')]  # Hanya file CSV\n",
        "    combined_dataframes = []\n",
        "\n",
        "    for csv_file in csv_files:\n",
        "        file_path = os.path.join(folder_path, csv_file)\n",
        "        try:\n",
        "            print(f\"Membaca file: {file_path}\")\n",
        "            df = pd.read_csv(file_path)\n",
        "            combined_dataframes.append(df)\n",
        "        except Exception as e:\n",
        "            print(f\"Gagal membaca file {csv_file}: {e}\")\n",
        "\n",
        "    # Gabungkan semua dataframes dalam folder\n",
        "    if combined_dataframes:\n",
        "        combined_df = pd.concat(combined_dataframes, ignore_index=True)\n",
        "        output_file = os.path.join(gabungan_folder, f'{prefix}.csv')\n",
        "        combined_df.to_csv(output_file, index=False)\n",
        "        print(f\"File gabungan disimpan ke: {output_file}\")\n",
        "    else:\n",
        "        print(f\"Tidak ada file CSV untuk digabungkan di folder: {folder_path}\")\n",
        "\n",
        "# Path folder\n",
        "folder1_path = '/content/drive/MyDrive/FiturEkstraksi/STElevasi'\n",
        "folder2_path = '/content/drive/MyDrive/FiturEkstraksi/InversiT'\n",
        "folder3_path = '/content/drive/MyDrive/FiturEkstraksi/MIandNormal'\n",
        "\n",
        "# Proses dan simpan CSV dari Folder 1\n",
        "print(\"\\nProses Folder 1 (STElevasi):\")\n",
        "if os.path.exists(folder1_path):\n",
        "    process_and_save_csv(folder1_path, gabungan, 'STElevasi')\n",
        "else:\n",
        "    print(f\"Folder 1 tidak ditemukan: {folder1_path}\")\n",
        "\n",
        "# Proses dan simpan CSV dari Folder 2\n",
        "print(\"\\nProses Folder 2 (InversiT):\")\n",
        "if os.path.exists(folder2_path):\n",
        "    process_and_save_csv(folder2_path, gabungan, 'InversiT')\n",
        "else:\n",
        "    print(f\"Folder 2 tidak ditemukan: {folder2_path}\")\n",
        "\n",
        "# Proses dan simpan CSV dari Folder 3\n",
        "print(\"\\nProses Folder 3 (MIandNormal):\")\n",
        "if os.path.exists(folder3_path):\n",
        "    process_and_save_csv(folder3_path, gabungan, 'MIandNormal')\n",
        "else:\n",
        "    print(f\"Folder 3 tidak ditemukan: {folder3_path}\")\n"
      ],
      "metadata": {
        "colab": {
          "base_uri": "https://localhost:8080/"
        },
        "id": "SzzwfajGR4rg",
        "outputId": "df71e7fd-482c-4458-da31-5a949206e9cc"
      },
      "execution_count": null,
      "outputs": [
        {
          "output_type": "stream",
          "name": "stdout",
          "text": [
            "\n",
            "Proses Folder 1 (STElevasi):\n",
            "Membaca file: /content/drive/MyDrive/FiturEkstraksi/STElevasi/st_elevations_features.csv\n",
            "File gabungan disimpan ke: /content/gabunganfitur/STElevasi.csv\n",
            "\n",
            "Proses Folder 2 (InversiT):\n",
            "Membaca file: /content/drive/MyDrive/FiturEkstraksi/InversiT/t_inversion_features.csv\n",
            "File gabungan disimpan ke: /content/gabunganfitur/InversiT.csv\n",
            "\n",
            "Proses Folder 3 (MIandNormal):\n",
            "Membaca file: /content/drive/MyDrive/FiturEkstraksi/MIandNormal/ecg_mi_vs_normal_dataset.csv\n",
            "File gabungan disimpan ke: /content/gabunganfitur/MIandNormal.csv\n"
          ]
        }
      ]
    },
    {
      "cell_type": "code",
      "source": [
        "!pip install niapy"
      ],
      "metadata": {
        "colab": {
          "base_uri": "https://localhost:8080/"
        },
        "id": "uFk8NlXoS5Om",
        "outputId": "212aafd5-31a8-46eb-f1cc-551643df4980"
      },
      "execution_count": null,
      "outputs": [
        {
          "output_type": "stream",
          "name": "stdout",
          "text": [
            "Collecting niapy\n",
            "  Downloading niapy-2.5.1-py3-none-any.whl.metadata (23 kB)\n",
            "Requirement already satisfied: matplotlib<4.0.0,>=3.8.0 in /usr/local/lib/python3.10/dist-packages (from niapy) (3.8.0)\n",
            "Requirement already satisfied: numpy<2.0.0,>=1.26.1 in /usr/local/lib/python3.10/dist-packages (from niapy) (1.26.4)\n",
            "Requirement already satisfied: openpyxl<4.0.0,>=3.1.2 in /usr/local/lib/python3.10/dist-packages (from niapy) (3.1.5)\n",
            "Requirement already satisfied: pandas<3.0.0,>=2.1.1 in /usr/local/lib/python3.10/dist-packages (from niapy) (2.2.2)\n",
            "Requirement already satisfied: contourpy>=1.0.1 in /usr/local/lib/python3.10/dist-packages (from matplotlib<4.0.0,>=3.8.0->niapy) (1.3.1)\n",
            "Requirement already satisfied: cycler>=0.10 in /usr/local/lib/python3.10/dist-packages (from matplotlib<4.0.0,>=3.8.0->niapy) (0.12.1)\n",
            "Requirement already satisfied: fonttools>=4.22.0 in /usr/local/lib/python3.10/dist-packages (from matplotlib<4.0.0,>=3.8.0->niapy) (4.55.3)\n",
            "Requirement already satisfied: kiwisolver>=1.0.1 in /usr/local/lib/python3.10/dist-packages (from matplotlib<4.0.0,>=3.8.0->niapy) (1.4.7)\n",
            "Requirement already satisfied: packaging>=20.0 in /usr/local/lib/python3.10/dist-packages (from matplotlib<4.0.0,>=3.8.0->niapy) (24.2)\n",
            "Requirement already satisfied: pillow>=6.2.0 in /usr/local/lib/python3.10/dist-packages (from matplotlib<4.0.0,>=3.8.0->niapy) (11.0.0)\n",
            "Requirement already satisfied: pyparsing>=2.3.1 in /usr/local/lib/python3.10/dist-packages (from matplotlib<4.0.0,>=3.8.0->niapy) (3.2.0)\n",
            "Requirement already satisfied: python-dateutil>=2.7 in /usr/local/lib/python3.10/dist-packages (from matplotlib<4.0.0,>=3.8.0->niapy) (2.8.2)\n",
            "Requirement already satisfied: et-xmlfile in /usr/local/lib/python3.10/dist-packages (from openpyxl<4.0.0,>=3.1.2->niapy) (2.0.0)\n",
            "Requirement already satisfied: pytz>=2020.1 in /usr/local/lib/python3.10/dist-packages (from pandas<3.0.0,>=2.1.1->niapy) (2024.2)\n",
            "Requirement already satisfied: tzdata>=2022.7 in /usr/local/lib/python3.10/dist-packages (from pandas<3.0.0,>=2.1.1->niapy) (2024.2)\n",
            "Requirement already satisfied: six>=1.5 in /usr/local/lib/python3.10/dist-packages (from python-dateutil>=2.7->matplotlib<4.0.0,>=3.8.0->niapy) (1.17.0)\n",
            "Downloading niapy-2.5.1-py3-none-any.whl (187 kB)\n",
            "\u001b[2K   \u001b[90m━━━━━━━━━━━━━━━━━━━━━━━━━━━━━━━━━━━━━━━━\u001b[0m \u001b[32m188.0/188.0 kB\u001b[0m \u001b[31m6.9 MB/s\u001b[0m eta \u001b[36m0:00:00\u001b[0m\n",
            "\u001b[?25hInstalling collected packages: niapy\n",
            "Successfully installed niapy-2.5.1\n"
          ]
        }
      ]
    },
    {
      "cell_type": "code",
      "source": [
        "# import pandas as pd\n",
        "# from sklearn.model_selection import train_test_split\n",
        "# from sklearn.svm import SVC\n",
        "# from sklearn.metrics import accuracy_score, classification_report\n",
        "# from sklearn.preprocessing import StandardScaler\n",
        "# from imblearn.over_sampling import SMOTE\n",
        "\n",
        "# # Baca dataset ST-elevasi, amplitudo RS, dan kelas multiklas\n",
        "# st_dataset = pd.read_csv('/content/gabunganfitur/STElevasi.csv')  # Dataset fitur ST-elevasi\n",
        "# T_dataset = pd.read_csv('/content/gabunganfitur/InversiT.csv')  # Dataset fitur RS\n",
        "# class_dataset = pd.read_csv('/content/gabunganfitur/MIandNormal.csv')  # Dataset kelas multiklas\n",
        "\n",
        "\n",
        "# # Rename kolom 'Record Name' menjadi 'patient_id' untuk konsistensi\n",
        "# st_dataset = st_dataset.rename(columns={'Record Name': 'patient_id'})\n",
        "# T_dataset = T_dataset.rename(columns={'Patient': 'patient_id'})\n",
        "# class_dataset = class_dataset.rename(columns={'Record Name': 'patient_id'})\n",
        "\n",
        "# # Gabungkan dataset berdasarkan kolom 'patient_id'\n",
        "# merged_dataset = pd.merge(st_dataset, T_dataset, on='patient_id', how='inner')\n",
        "# merged_dataset = pd.merge(merged_dataset, class_dataset, on='patient_id', how='inner')\n",
        "\n",
        "# # Pisahkan fitur (X) dan label (y)\n",
        "# X = merged_dataset[['st_mean', 'st_std', 'st_max', 'st_min', 'st_range',\n",
        "#                     'T_Inversion_Count', 'T_Inversion_Binary']]  # Gabungan fitur\n",
        "# y = merged_dataset['Class']  # Target label (kelas multiklas)\n",
        "\n",
        "# # Split data menjadi training dan testing set\n",
        "# X_train, X_test, y_train, y_test = train_test_split(X, y, test_size=0.2, random_state=42)\n",
        "\n",
        "# # Terapkan SMOTE untuk menangani ketidakseimbangan kelas pada data pelatihan\n",
        "# smote = SMOTE(random_state=42)\n",
        "# X_train_resampled, y_train_resampled = smote.fit_resample(X_train, y_train)\n",
        "\n",
        "# # Standarisasi fitur\n",
        "# scaler = StandardScaler()\n",
        "# X_train_resampled = scaler.fit_transform(X_train_resampled)\n",
        "# X_test = scaler.transform(X_test)\n",
        "\n",
        "# # Inisialisasi dan training model SVM\n",
        "# model = SVC(C= 0.25729202722281075, kernel= 'rbf', gamma= 100.0)\n",
        "# model.fit(X_train_resampled, y_train_resampled)\n",
        "\n",
        "# # Prediksi pada data testing\n",
        "# y_pred = model.predict(X_test)\n",
        "\n",
        "# # Evaluasi performa model\n",
        "# print(f\"Akurasi: {accuracy_score(y_test, y_pred) * 100:.2f}%\")\n",
        "# print(\"Laporan Klasifikasi:\")\n",
        "# print(classification_report(y_test, y_pred, zero_division=0))\n"
      ],
      "metadata": {
        "colab": {
          "base_uri": "https://localhost:8080/"
        },
        "id": "7lghwo6hS6YI",
        "outputId": "bc6aacc5-a32a-4819-cecf-3af738d4ab61"
      },
      "execution_count": null,
      "outputs": [
        {
          "output_type": "stream",
          "name": "stdout",
          "text": [
            "Akurasi: 83.33%\n",
            "Laporan Klasifikasi:\n",
            "              precision    recall  f1-score   support\n",
            "\n",
            "           0       0.00      0.00      0.00        15\n",
            "           1       0.83      1.00      0.91        75\n",
            "\n",
            "    accuracy                           0.83        90\n",
            "   macro avg       0.42      0.50      0.45        90\n",
            "weighted avg       0.69      0.83      0.76        90\n",
            "\n"
          ]
        },
        {
          "output_type": "stream",
          "name": "stderr",
          "text": [
            "/usr/local/lib/python3.10/dist-packages/sklearn/base.py:474: FutureWarning: `BaseEstimator._validate_data` is deprecated in 1.6 and will be removed in 1.7. Use `sklearn.utils.validation.validate_data` instead. This function becomes public and is part of the scikit-learn developer API.\n",
            "  warnings.warn(\n",
            "/usr/local/lib/python3.10/dist-packages/sklearn/utils/_tags.py:354: FutureWarning: The SMOTE or classes from which it inherits use `_get_tags` and `_more_tags`. Please define the `__sklearn_tags__` method, or inherit from `sklearn.base.BaseEstimator` and/or other appropriate mixins such as `sklearn.base.TransformerMixin`, `sklearn.base.ClassifierMixin`, `sklearn.base.RegressorMixin`, and `sklearn.base.OutlierMixin`. From scikit-learn 1.7, not defining `__sklearn_tags__` will raise an error.\n",
            "  warnings.warn(\n"
          ]
        }
      ]
    },
    {
      "cell_type": "code",
      "source": [
        "import warnings\n",
        "warnings.filterwarnings(\"ignore\", category=FutureWarning)\n"
      ],
      "metadata": {
        "id": "k6RKNQ4DGqF5"
      },
      "execution_count": null,
      "outputs": []
    },
    {
      "cell_type": "code",
      "source": [
        "import pandas as pd\n",
        "from sklearn.model_selection import train_test_split, GridSearchCV\n",
        "from sklearn.svm import SVC\n",
        "from sklearn.metrics import accuracy_score, classification_report, confusion_matrix\n",
        "from sklearn.preprocessing import StandardScaler\n",
        "from imblearn.over_sampling import SMOTE\n",
        "\n",
        "# Baca dataset ST-elevasi, amplitudo RS, dan kelas multiklas\n",
        "st_dataset = pd.read_csv('/content/gabunganfitur/STElevasi.csv')  # Dataset fitur ST-elevasi\n",
        "T_dataset = pd.read_csv('/content/gabunganfitur/InversiT.csv')  # Dataset fitur RS\n",
        "class_dataset = pd.read_csv('/content/gabunganfitur/MIandNormal.csv')  # Dataset kelas multiklas\n",
        "\n",
        "\n",
        "# Rename kolom 'Record Name' menjadi 'patient_id' untuk konsistensi\n",
        "st_dataset = st_dataset.rename(columns={'Record Name': 'patient_id'})\n",
        "T_dataset = T_dataset.rename(columns={'Patient': 'patient_id'})\n",
        "class_dataset = class_dataset.rename(columns={'Record Name': 'patient_id'})\n",
        "\n",
        "# Gabungkan dataset berdasarkan kolom 'patient_id'\n",
        "merged_dataset = pd.merge(st_dataset, T_dataset, on='patient_id', how='inner')\n",
        "merged_dataset = pd.merge(merged_dataset, class_dataset, on='patient_id', how='inner')\n",
        "\n",
        "# Pisahkan fitur (X) dan label (y)\n",
        "X = merged_dataset[['st_mean', 'st_std', 'st_max', 'st_min', 'st_range',\n",
        "                    'T_Inversion_Count', 'T_Inversion_Binary']]  # Gabungan fitur\n",
        "y = merged_dataset['Class']  # Target label (kelas multiklas)\n",
        "\n",
        "# # 4. Hitung distribusi kelas sebelum split\n",
        "# print(\"Distribusi Kelas Sebelum Split:\")\n",
        "# print(y.value_counts())\n",
        "\n",
        "# 5. Split data menjadi training dan testing set\n",
        "X_train, X_test, y_train, y_test = train_test_split(X, y, test_size=0.15, random_state=42, stratify=y)\n",
        "\n",
        "# # 6. Hitung distribusi kelas setelah split\n",
        "# print(\"Distribusi Kelas Setelah Split:\")\n",
        "# print(\"Training Set:\")\n",
        "# print(y_train.value_counts())\n",
        "# print(\"Testing Set:\")\n",
        "# print(y_test.value_counts())\n",
        "\n",
        "# 7. Terapkan SMOTE untuk menyeimbangkan kelas pada data pelatihan\n",
        "smote = SMOTE(random_state=42)\n",
        "X_train_resampled, y_train_resampled = smote.fit_resample(X_train, y_train)\n",
        "\n",
        "# 8. Standarisasi fitur\n",
        "scaler = StandardScaler()\n",
        "X_train_resampled = scaler.fit_transform(X_train_resampled)\n",
        "X_test = scaler.transform(X_test)\n",
        "\n",
        "# 9. Optimasi parameter SVM menggunakan GridSearchCV\n",
        "param_grid = {\n",
        "    'C': np.logspace(-2, 2, 10),  # 10 nilai logaritmik dari 0.01 ke 100\n",
        "    'gamma': np.logspace(-2, 2, 10),  # Sama untuk gamma\n",
        "    'kernel': ['rbf'],\n",
        "    'class_weight': ['balanced']\n",
        "}\n",
        "\n",
        "grid_search = GridSearchCV(SVC(probability=True), param_grid, cv=5, scoring='f1_macro')\n",
        "grid_search.fit(X_train_resampled, y_train_resampled)\n",
        "\n",
        "# 10. Model terbaik dari GridSearch\n",
        "best_model = grid_search.best_estimator_\n",
        "print(f\"Best Model Parameters: {grid_search.best_params_}\")\n",
        "\n",
        "# 11. Prediksi pada set pengujian\n",
        "y_pred = best_model.predict(X_test)\n",
        "\n",
        "# 12. Evaluasi akurasi\n",
        "accuracy = accuracy_score(y_test, y_pred)\n",
        "print(f\"Akurasi: {accuracy * 100:.2f}%\")\n",
        "\n",
        "# 13. Laporan klasifikasi\n",
        "report = classification_report(y_test, y_pred, zero_division=0)\n",
        "print(\"Laporan Klasifikasi:\")\n",
        "print(report)\n",
        "\n",
        "# 14. Analisis confusion matrix\n",
        "cm = confusion_matrix(y_test, y_pred)\n",
        "print(\"Confusion Matrix (Testing Set):\")\n",
        "print(cm)\n",
        "\n",
        "# 15. Perhitungan sensitivitas, spesifisitas, dan F1-score\n",
        "# Sensitivitas (Recall untuk kelas 1)\n",
        "sensitivity = cm[1, 1] / (cm[1, 0] + cm[1, 1]) if (cm[1, 0] + cm[1, 1]) != 0 else 0\n",
        "\n",
        "# Spesifisitas (Recall untuk kelas 0)\n",
        "specificity = cm[0, 0] / (cm[0, 0] + cm[0, 1]) if (cm[0, 0] + cm[0, 1]) != 0 else 0\n",
        "\n",
        "# F1 Score makro (rata-rata antar kelas)\n",
        "f1_scores = classification_report(y_test, y_pred, output_dict=True, zero_division=0)['macro avg']['f1-score']\n",
        "\n",
        "# Cetak hasil evaluasi\n",
        "print(f\"\\nHasil Evaluasi:\")\n",
        "print(f\"Akurasi: {accuracy * 100:.2f}%\")\n",
        "print(f\"Sensitivitas (Recall Kelas 1): {sensitivity:.2f}\")\n",
        "print(f\"Spesifisitas (Recall Kelas 0): {specificity:.2f}\")\n",
        "print(f\"F1 Score (Macro Average): {f1_scores:.2f}\")\n"
      ],
      "metadata": {
        "colab": {
          "base_uri": "https://localhost:8080/"
        },
        "id": "lYSgiXb43xER",
        "outputId": "4ab6f92c-14fe-40a0-c13e-26e51078792a"
      },
      "execution_count": null,
      "outputs": [
        {
          "output_type": "stream",
          "name": "stderr",
          "text": [
            "/usr/local/lib/python3.10/dist-packages/sklearn/base.py:474: FutureWarning: `BaseEstimator._validate_data` is deprecated in 1.6 and will be removed in 1.7. Use `sklearn.utils.validation.validate_data` instead. This function becomes public and is part of the scikit-learn developer API.\n",
            "  warnings.warn(\n",
            "/usr/local/lib/python3.10/dist-packages/sklearn/utils/_tags.py:354: FutureWarning: The SMOTE or classes from which it inherits use `_get_tags` and `_more_tags`. Please define the `__sklearn_tags__` method, or inherit from `sklearn.base.BaseEstimator` and/or other appropriate mixins such as `sklearn.base.TransformerMixin`, `sklearn.base.ClassifierMixin`, `sklearn.base.RegressorMixin`, and `sklearn.base.OutlierMixin`. From scikit-learn 1.7, not defining `__sklearn_tags__` will raise an error.\n",
            "  warnings.warn(\n"
          ]
        },
        {
          "output_type": "stream",
          "name": "stdout",
          "text": [
            "Best Model Parameters: {'C': 10, 'class_weight': 'balanced', 'gamma': 1, 'kernel': 'rbf'}\n",
            "Akurasi: 82.35%\n",
            "Laporan Klasifikasi:\n",
            "              precision    recall  f1-score   support\n",
            "\n",
            "           0       0.50      0.67      0.57        12\n",
            "           1       0.92      0.86      0.89        56\n",
            "\n",
            "    accuracy                           0.82        68\n",
            "   macro avg       0.71      0.76      0.73        68\n",
            "weighted avg       0.85      0.82      0.83        68\n",
            "\n",
            "Confusion Matrix (Testing Set):\n",
            "[[ 8  4]\n",
            " [ 8 48]]\n",
            "\n",
            "Hasil Evaluasi:\n",
            "Akurasi: 82.35%\n",
            "Sensitivitas (Recall Kelas 1): 0.86\n",
            "Spesifisitas (Recall Kelas 0): 0.67\n",
            "F1 Score (Macro Average): 0.73\n"
          ]
        }
      ]
    },
    {
      "cell_type": "code",
      "source": [
        "# Cetak hasil evaluasi\n",
        "print(f\"\\nHasil Evaluasi:\")\n",
        "print(f\"Akurasi: {accuracy * 100:.2f}%\")\n",
        "print(f\"Sensitivitas (Recall Kelas 1): {sensitivity * 100:.2f}\")\n",
        "print(f\"Spesifisitas (Recall Kelas 0): {specificity* 100:.2f}\")\n",
        "print(f\"F1 Score (Macro Average): {f1_scores* 100:.2f}\")"
      ],
      "metadata": {
        "colab": {
          "base_uri": "https://localhost:8080/"
        },
        "id": "UCaGIkx2YRyX",
        "outputId": "b5af9940-9bf2-4e4c-f63f-edbedcb0c70d"
      },
      "execution_count": null,
      "outputs": [
        {
          "output_type": "stream",
          "name": "stdout",
          "text": [
            "\n",
            "Hasil Evaluasi:\n",
            "Akurasi: 82.35%\n",
            "Sensitivitas (Recall Kelas 1): 85.71\n",
            "Spesifisitas (Recall Kelas 0): 66.67\n",
            "F1 Score (Macro Average): 73.02\n"
          ]
        }
      ]
    },
    {
      "cell_type": "code",
      "source": [
        "from sklearn.metrics import confusion_matrix, ConfusionMatrixDisplay\n",
        "import matplotlib.pyplot as plt\n",
        "\n",
        "# Buat confusion matrix\n",
        "conf_matrix = confusion_matrix(y_test, y_pred)\n",
        "\n",
        "# Tampilkan confusion matrix\n",
        "disp = ConfusionMatrixDisplay(confusion_matrix=conf_matrix, display_labels=best_model.classes_)\n",
        "disp.plot(cmap='Blues')\n",
        "plt.title('Confusion Matrix')\n",
        "plt.show()\n"
      ],
      "metadata": {
        "colab": {
          "base_uri": "https://localhost:8080/",
          "height": 472
        },
        "id": "QqcgfXKs-nZr",
        "outputId": "1010182c-ffbf-4e0c-ee7a-4ec2dd49b48f"
      },
      "execution_count": null,
      "outputs": [
        {
          "output_type": "display_data",
          "data": {
            "text/plain": [
              "<Figure size 640x480 with 2 Axes>"
            ],
            "image/png": "[encoded data removed]"
          },
          "metadata": {}
        }
      ]
    },
    {
      "cell_type": "code",
      "source": [
        "# import pandas as pd\n",
        "# import numpy as np\n",
        "# from sklearn.model_selection import train_test_split\n",
        "# from sklearn.svm import SVC\n",
        "# from sklearn.metrics import accuracy_score, classification_report\n",
        "# from sklearn.preprocessing import StandardScaler\n",
        "# from imblearn.over_sampling import SMOTE\n",
        "# from niapy.problems import Problem\n",
        "# from niapy.task import OptimizationType, Task\n",
        "# from niapy.algorithms.basic import ParticleSwarmAlgorithm\n",
        "\n",
        "# # Fungsi untuk mendapatkan hyperparameter dari nilai partikel\n",
        "# def get_hyperparameters(x):\n",
        "#     C = 10 ** x[0]\n",
        "#     kernel = 'rbf' if x[1] >= 0.5 else 'linear'\n",
        "#     gamma = 10 ** x[2]\n",
        "#     return {'C': C, 'kernel': kernel, 'gamma': gamma}\n",
        "\n",
        "# def get_classifier(x):\n",
        "#     params = get_hyperparameters(x)\n",
        "#     return SVC(**params)\n",
        "\n",
        "# # Definisi masalah optimasi untuk SVM\n",
        "# class SVMHyperparameterOptimization(Problem):\n",
        "#     def __init__(self, X_train, y_train, X_test, y_test):\n",
        "#         super().__init__(dimension=3, lower=[-1, 0, -1], upper=[2, 1, 2])  # C, kernel (binary), gamma\n",
        "#         self.X_train = X_train\n",
        "#         self.y_train = y_train\n",
        "#         self.X_test = X_test\n",
        "#         self.y_test = y_test\n",
        "\n",
        "#     def _evaluate(self, x):\n",
        "#         model = get_classifier(x)\n",
        "#         model.fit(self.X_train, self.y_train)\n",
        "#         y_pred = model.predict(self.X_test)\n",
        "#         accuracy = accuracy_score(self.y_test, y_pred)\n",
        "#         return -accuracy  # Negasikan akurasi untuk tujuan minimisasi\n",
        "\n",
        "# # Langkah 1: Baca dataset fitur ST-elevasi, amplitudo RS, dan dataset kelas multiklas\n",
        "# st_dataset = pd.read_csv('/content/gabunganfitur/STElevasi.csv')  # Dataset fitur ST-elevasi\n",
        "# T_dataset = pd.read_csv('/content/gabunganfitur/InversiT.csv')  # Dataset fitur RS\n",
        "# class_dataset = pd.read_csv('/content/gabunganfitur/MIandNormal.csv')  # Dataset kelas multiklas\n",
        "\n",
        "# # Rename kolom 'Record Name' menjadi 'patient_id' di semua dataset untuk konsistensi\n",
        "# st_dataset = st_dataset.rename(columns={'Record Name': 'patient_id'})\n",
        "# T_dataset = T_dataset.rename(columns={'Patient': 'patient_id'})\n",
        "# class_dataset = class_dataset.rename(columns={'Record Name': 'patient_id'})\n",
        "\n",
        "# # Bersihkan kolom 'patient_id' agar konsisten\n",
        "# st_dataset['patient_id'] = st_dataset['patient_id'].str.strip().str.lower()\n",
        "# T_dataset['patient_id'] = T_dataset['patient_id'].str.strip().str.lower()\n",
        "# class_dataset['patient_id'] = class_dataset['patient_id'].str.strip().str.lower()\n",
        "\n",
        "# # Langkah 2: Gabungkan dataset berdasarkan 'patient_id'\n",
        "# merged_data = st_dataset.merge(T_dataset, on='patient_id', how='inner')\n",
        "# merged_data = merged_data.merge(class_dataset, on='patient_id', how='inner')\n",
        "\n",
        "# # Langkah 3: Pisahkan fitur dan label\n",
        "# X = merged_data[['st_mean', 'st_std', 'st_max', 'st_min', 'st_range',\n",
        "#                  'T_Inversion_Count', 'T_Inversion_Binary']]  # Gabungan fitur\n",
        "# y = merged_data['Class']  # Target label (multiklas)\n",
        "\n",
        "# # Split data menjadi training dan testing set\n",
        "# X_train, X_test, y_train, y_test = train_test_split(X, y, test_size=0.2, random_state=42)\n",
        "\n",
        "# # Terapkan SMOTE untuk menyeimbangkan kelas pada data pelatihan\n",
        "# smote = SMOTE(random_state=42)\n",
        "# X_train_resampled, y_train_resampled = smote.fit_resample(X_train, y_train)\n",
        "\n",
        "# # Standarisasi fitur\n",
        "# scaler = StandardScaler()\n",
        "# X_train_resampled = scaler.fit_transform(X_train_resampled)\n",
        "# X_test = scaler.transform(X_test)\n",
        "\n",
        "# # Inisialisasi dan jalankan optimisasi hyperparameter\n",
        "# problem = SVMHyperparameterOptimization(X_train_resampled, y_train_resampled, X_test, y_test)\n",
        "# task = Task(problem, max_iters=50, optimization_type=OptimizationType.MINIMIZATION)\n",
        "# algorithm = ParticleSwarmAlgorithm(population_size=20, seed=1234)\n",
        "\n",
        "# best_params, best_accuracy = algorithm.run(task)\n",
        "\n",
        "# # Tampilkan hasil optimasi\n",
        "# print('Best parameters:', get_hyperparameters(best_params))\n",
        "# print('Best accuracy:', -best_accuracy)\n",
        "\n",
        "# # Evaluasi model terbaik\n",
        "# best_model = get_classifier(best_params)\n",
        "# best_model.fit(X_train_resampled, y_train_resampled)\n",
        "# y_pred = best_model.predict(X_test)\n",
        "\n",
        "# print(f\"Akurasi Model Terbaik: {accuracy_score(y_test, y_pred) * 100:.2f}%\")\n",
        "# print(\"Laporan Klasifikasi:\")\n",
        "# print(classification_report(y_test, y_pred, zero_division=0))\n"
      ],
      "metadata": {
        "id": "AYHBxOohTovL"
      },
      "execution_count": null,
      "outputs": []
    }
  ]
}