{
  "nbformat": 4,
  "nbformat_minor": 0,
  "metadata": {
    "colab": {
      "provenance": [],
      "include_colab_link": true
    },
    "kernelspec": {
      "name": "python3",
      "display_name": "Python 3"
    },
    "language_info": {
      "name": "python"
    }
  },
  "cells": [
    {
      "cell_type": "markdown",
      "metadata": {
        "id": "view-in-github",
        "colab_type": "text"
      },
      "source": [
        "<a href=\"https://colab.research.google.com/github/JunandaSap/TA/blob/main/ST_elevasi%26Amplitudo_R_S.ipynb\" target=\"_parent\"><img src=\"https://colab.research.google.com/assets/colab-badge.svg\" alt=\"Open In Colab\"/></a>"
      ]
    },
    {
      "cell_type": "code",
      "execution_count": null,
      "metadata": {
        "colab": {
          "base_uri": "https://localhost:8080/"
        },
        "id": "JHggXLEHUu3r",
        "outputId": "f22a882c-e63d-4353-dd28-ce688e847046"
      },
      "outputs": [
        {
          "output_type": "stream",
          "name": "stdout",
          "text": [
            "Collecting wfdb\n",
            "  Downloading wfdb-4.1.2-py3-none-any.whl.metadata (4.3 kB)\n",
            "Requirement already satisfied: librosa in /usr/local/lib/python3.10/dist-packages (0.10.2.post1)\n",
            "Requirement already satisfied: matplotlib in /usr/local/lib/python3.10/dist-packages (3.8.0)\n",
            "Requirement already satisfied: SoundFile>=0.10.0 in /usr/local/lib/python3.10/dist-packages (from wfdb) (0.12.1)\n",
            "Requirement already satisfied: numpy>=1.10.1 in /usr/local/lib/python3.10/dist-packages (from wfdb) (1.26.4)\n",
            "Requirement already satisfied: pandas>=1.3.0 in /usr/local/lib/python3.10/dist-packages (from wfdb) (2.2.2)\n",
            "Requirement already satisfied: requests>=2.8.1 in /usr/local/lib/python3.10/dist-packages (from wfdb) (2.32.3)\n",
            "Requirement already satisfied: scipy>=1.0.0 in /usr/local/lib/python3.10/dist-packages (from wfdb) (1.13.1)\n",
            "Requirement already satisfied: audioread>=2.1.9 in /usr/local/lib/python3.10/dist-packages (from librosa) (3.0.1)\n",
            "Requirement already satisfied: scikit-learn>=0.20.0 in /usr/local/lib/python3.10/dist-packages (from librosa) (1.6.0)\n",
            "Requirement already satisfied: joblib>=0.14 in /usr/local/lib/python3.10/dist-packages (from librosa) (1.4.2)\n",
            "Requirement already satisfied: decorator>=4.3.0 in /usr/local/lib/python3.10/dist-packages (from librosa) (4.4.2)\n",
            "Requirement already satisfied: numba>=0.51.0 in /usr/local/lib/python3.10/dist-packages (from librosa) (0.60.0)\n",
            "Requirement already satisfied: pooch>=1.1 in /usr/local/lib/python3.10/dist-packages (from librosa) (1.8.2)\n",
            "Requirement already satisfied: soxr>=0.3.2 in /usr/local/lib/python3.10/dist-packages (from librosa) (0.5.0.post1)\n",
            "Requirement already satisfied: typing-extensions>=4.1.1 in /usr/local/lib/python3.10/dist-packages (from librosa) (4.12.2)\n",
            "Requirement already satisfied: lazy-loader>=0.1 in /usr/local/lib/python3.10/dist-packages (from librosa) (0.4)\n",
            "Requirement already satisfied: msgpack>=1.0 in /usr/local/lib/python3.10/dist-packages (from librosa) (1.1.0)\n",
            "Requirement already satisfied: contourpy>=1.0.1 in /usr/local/lib/python3.10/dist-packages (from matplotlib) (1.3.1)\n",
            "Requirement already satisfied: cycler>=0.10 in /usr/local/lib/python3.10/dist-packages (from matplotlib) (0.12.1)\n",
            "Requirement already satisfied: fonttools>=4.22.0 in /usr/local/lib/python3.10/dist-packages (from matplotlib) (4.55.3)\n",
            "Requirement already satisfied: kiwisolver>=1.0.1 in /usr/local/lib/python3.10/dist-packages (from matplotlib) (1.4.7)\n",
            "Requirement already satisfied: packaging>=20.0 in /usr/local/lib/python3.10/dist-packages (from matplotlib) (24.2)\n",
            "Requirement already satisfied: pillow>=6.2.0 in /usr/local/lib/python3.10/dist-packages (from matplotlib) (11.0.0)\n",
            "Requirement already satisfied: pyparsing>=2.3.1 in /usr/local/lib/python3.10/dist-packages (from matplotlib) (3.2.0)\n",
            "Requirement already satisfied: python-dateutil>=2.7 in /usr/local/lib/python3.10/dist-packages (from matplotlib) (2.8.2)\n",
            "Requirement already satisfied: llvmlite<0.44,>=0.43.0dev0 in /usr/local/lib/python3.10/dist-packages (from numba>=0.51.0->librosa) (0.43.0)\n",
            "Requirement already satisfied: pytz>=2020.1 in /usr/local/lib/python3.10/dist-packages (from pandas>=1.3.0->wfdb) (2024.2)\n",
            "Requirement already satisfied: tzdata>=2022.7 in /usr/local/lib/python3.10/dist-packages (from pandas>=1.3.0->wfdb) (2024.2)\n",
            "Requirement already satisfied: platformdirs>=2.5.0 in /usr/local/lib/python3.10/dist-packages (from pooch>=1.1->librosa) (4.3.6)\n",
            "Requirement already satisfied: six>=1.5 in /usr/local/lib/python3.10/dist-packages (from python-dateutil>=2.7->matplotlib) (1.17.0)\n",
            "Requirement already satisfied: charset-normalizer<4,>=2 in /usr/local/lib/python3.10/dist-packages (from requests>=2.8.1->wfdb) (3.4.0)\n",
            "Requirement already satisfied: idna<4,>=2.5 in /usr/local/lib/python3.10/dist-packages (from requests>=2.8.1->wfdb) (3.10)\n",
            "Requirement already satisfied: urllib3<3,>=1.21.1 in /usr/local/lib/python3.10/dist-packages (from requests>=2.8.1->wfdb) (2.2.3)\n",
            "Requirement already satisfied: certifi>=2017.4.17 in /usr/local/lib/python3.10/dist-packages (from requests>=2.8.1->wfdb) (2024.12.14)\n",
            "Requirement already satisfied: threadpoolctl>=3.1.0 in /usr/local/lib/python3.10/dist-packages (from scikit-learn>=0.20.0->librosa) (3.5.0)\n",
            "Requirement already satisfied: cffi>=1.0 in /usr/local/lib/python3.10/dist-packages (from SoundFile>=0.10.0->wfdb) (1.17.1)\n",
            "Requirement already satisfied: pycparser in /usr/local/lib/python3.10/dist-packages (from cffi>=1.0->SoundFile>=0.10.0->wfdb) (2.22)\n",
            "Downloading wfdb-4.1.2-py3-none-any.whl (159 kB)\n",
            "\u001b[2K   \u001b[90m━━━━━━━━━━━━━━━━━━━━━━━━━━━━━━━━━━━━━━━━\u001b[0m \u001b[32m160.0/160.0 kB\u001b[0m \u001b[31m5.1 MB/s\u001b[0m eta \u001b[36m0:00:00\u001b[0m\n",
            "\u001b[?25hInstalling collected packages: wfdb\n",
            "Successfully installed wfdb-4.1.2\n"
          ]
        }
      ],
      "source": [
        "!pip install wfdb librosa matplotlib\n",
        "\n",
        "import os\n",
        "import zipfile\n",
        "import wfdb\n",
        "import librosa\n",
        "import numpy as np\n",
        "from sklearn.model_selection import train_test_split\n",
        "from sklearn.ensemble import RandomForestClassifier\n",
        "from sklearn.metrics import accuracy_score, classification_report\n",
        "from collections import Counter\n",
        "from imblearn.over_sampling import SMOTE\n",
        "from google.colab import drive\n",
        "from google.colab import drive"
      ]
    },
    {
      "cell_type": "code",
      "source": [
        "# Hubungkan Google Colab dengan Google Drive\n",
        "drive.mount('/content/drive')\n",
        "\n",
        "zip_file_path = '/content/drive/MyDrive/FiturEkstraksi'\n",
        "\n",
        "# extract_dir = '/content/extracted_zip'\n",
        "# os.makedirs(extract_dir, exist_ok=True)\n",
        "\n",
        "# # Ekstrak file zip\n",
        "# with zipfile.ZipFile(zip_file_path, 'r') as zip_ref:\n",
        "#     zip_ref.extractall(extract_dir)\n",
        "# print(\"File yang diekstrak:\")\n",
        "# print(os.listdir(extract_dir))"
      ],
      "metadata": {
        "colab": {
          "base_uri": "https://localhost:8080/"
        },
        "id": "mTxF3rWHaqT-",
        "outputId": "2d145cf5-69f4-48b6-aa4b-5b88c6090bd7"
      },
      "execution_count": null,
      "outputs": [
        {
          "output_type": "stream",
          "name": "stdout",
          "text": [
            "Mounted at /content/drive\n"
          ]
        }
      ]
    },
    {
      "cell_type": "code",
      "source": [
        "import pandas as pd\n",
        "import os\n",
        "\n",
        "# Direktori untuk menyimpan file gabungan\n",
        "gabungan = '/content/gabunganfitur'\n",
        "os.makedirs(gabungan, exist_ok=True)\n",
        "\n",
        "# Fungsi untuk membaca semua CSV dalam folder dan menyimpannya ke folder gabungan\n",
        "def process_and_save_csv(folder_path, gabungan_folder, prefix):\n",
        "    csv_files = [f for f in os.listdir(folder_path) if f.endswith('.csv')]  # Hanya file CSV\n",
        "    combined_dataframes = []\n",
        "\n",
        "    for csv_file in csv_files:\n",
        "        file_path = os.path.join(folder_path, csv_file)\n",
        "        try:\n",
        "            print(f\"Membaca file: {file_path}\")\n",
        "            df = pd.read_csv(file_path)\n",
        "            combined_dataframes.append(df)\n",
        "        except Exception as e:\n",
        "            print(f\"Gagal membaca file {csv_file}: {e}\")\n",
        "\n",
        "    # Gabungkan semua dataframes dalam folder\n",
        "    if combined_dataframes:\n",
        "        combined_df = pd.concat(combined_dataframes, ignore_index=True)\n",
        "        output_file = os.path.join(gabungan_folder, f'{prefix}.csv')\n",
        "        combined_df.to_csv(output_file, index=False)\n",
        "        print(f\"File gabungan disimpan ke: {output_file}\")\n",
        "    else:\n",
        "        print(f\"Tidak ada file CSV untuk digabungkan di folder: {folder_path}\")\n",
        "\n",
        "# Path folder\n",
        "folder1_path = '/content/drive/MyDrive/FiturEkstraksi/STElevasi'\n",
        "folder2_path = '/content/drive/MyDrive/FiturEkstraksi/AmplitudoRS'\n",
        "folder3_path = '/content/drive/MyDrive/FiturEkstraksi/MIandNormal'\n",
        "\n",
        "# Proses dan simpan CSV dari Folder 1\n",
        "print(\"\\nProses Folder 1 (STElevasi):\")\n",
        "if os.path.exists(folder1_path):\n",
        "    process_and_save_csv(folder1_path, gabungan, 'STElevasi')\n",
        "else:\n",
        "    print(f\"Folder 1 tidak ditemukan: {folder1_path}\")\n",
        "\n",
        "# Proses dan simpan CSV dari Folder 2\n",
        "print(\"\\nProses Folder 2 (AmplitudoRS):\")\n",
        "if os.path.exists(folder2_path):\n",
        "    process_and_save_csv(folder2_path, gabungan, 'AmplitudoRS')\n",
        "else:\n",
        "    print(f\"Folder 2 tidak ditemukan: {folder2_path}\")\n",
        "\n",
        "# Proses dan simpan CSV dari Folder 3\n",
        "print(\"\\nProses Folder 3 (MIandNormal):\")\n",
        "if os.path.exists(folder3_path):\n",
        "    process_and_save_csv(folder3_path, gabungan, 'MIandNormal')\n",
        "else:\n",
        "    print(f\"Folder 3 tidak ditemukan: {folder3_path}\")\n"
      ],
      "metadata": {
        "colab": {
          "base_uri": "https://localhost:8080/"
        },
        "id": "oIHRRiar9xz1",
        "outputId": "d316e4cb-34fe-481a-f9d6-a417565ba6df"
      },
      "execution_count": null,
      "outputs": [
        {
          "output_type": "stream",
          "name": "stdout",
          "text": [
            "\n",
            "Proses Folder 1 (STElevasi):\n",
            "Membaca file: /content/drive/MyDrive/FiturEkstraksi/STElevasi/st_elevations_features.csv\n",
            "File gabungan disimpan ke: /content/gabunganfitur/STElevasi.csv\n",
            "\n",
            "Proses Folder 2 (AmplitudoRS):\n",
            "Membaca file: /content/drive/MyDrive/FiturEkstraksi/AmplitudoRS/rs_features_full.csv\n",
            "File gabungan disimpan ke: /content/gabunganfitur/AmplitudoRS.csv\n",
            "\n",
            "Proses Folder 3 (MIandNormal):\n",
            "Membaca file: /content/drive/MyDrive/FiturEkstraksi/MIandNormal/ecg_mi_vs_normal_dataset.csv\n",
            "File gabungan disimpan ke: /content/gabunganfitur/MIandNormal.csv\n"
          ]
        }
      ]
    },
    {
      "cell_type": "code",
      "source": [
        "!pip install niapy"
      ],
      "metadata": {
        "colab": {
          "base_uri": "https://localhost:8080/"
        },
        "id": "j2YD5Ea-HIUO",
        "outputId": "38f9f445-508d-40d1-9323-9cdc12d069fe"
      },
      "execution_count": null,
      "outputs": [
        {
          "output_type": "stream",
          "name": "stdout",
          "text": [
            "Collecting niapy\n",
            "  Downloading niapy-2.5.1-py3-none-any.whl.metadata (23 kB)\n",
            "Requirement already satisfied: matplotlib<4.0.0,>=3.8.0 in /usr/local/lib/python3.10/dist-packages (from niapy) (3.8.0)\n",
            "Requirement already satisfied: numpy<2.0.0,>=1.26.1 in /usr/local/lib/python3.10/dist-packages (from niapy) (1.26.4)\n",
            "Requirement already satisfied: openpyxl<4.0.0,>=3.1.2 in /usr/local/lib/python3.10/dist-packages (from niapy) (3.1.5)\n",
            "Requirement already satisfied: pandas<3.0.0,>=2.1.1 in /usr/local/lib/python3.10/dist-packages (from niapy) (2.2.2)\n",
            "Requirement already satisfied: contourpy>=1.0.1 in /usr/local/lib/python3.10/dist-packages (from matplotlib<4.0.0,>=3.8.0->niapy) (1.3.1)\n",
            "Requirement already satisfied: cycler>=0.10 in /usr/local/lib/python3.10/dist-packages (from matplotlib<4.0.0,>=3.8.0->niapy) (0.12.1)\n",
            "Requirement already satisfied: fonttools>=4.22.0 in /usr/local/lib/python3.10/dist-packages (from matplotlib<4.0.0,>=3.8.0->niapy) (4.55.3)\n",
            "Requirement already satisfied: kiwisolver>=1.0.1 in /usr/local/lib/python3.10/dist-packages (from matplotlib<4.0.0,>=3.8.0->niapy) (1.4.7)\n",
            "Requirement already satisfied: packaging>=20.0 in /usr/local/lib/python3.10/dist-packages (from matplotlib<4.0.0,>=3.8.0->niapy) (24.2)\n",
            "Requirement already satisfied: pillow>=6.2.0 in /usr/local/lib/python3.10/dist-packages (from matplotlib<4.0.0,>=3.8.0->niapy) (11.0.0)\n",
            "Requirement already satisfied: pyparsing>=2.3.1 in /usr/local/lib/python3.10/dist-packages (from matplotlib<4.0.0,>=3.8.0->niapy) (3.2.0)\n",
            "Requirement already satisfied: python-dateutil>=2.7 in /usr/local/lib/python3.10/dist-packages (from matplotlib<4.0.0,>=3.8.0->niapy) (2.8.2)\n",
            "Requirement already satisfied: et-xmlfile in /usr/local/lib/python3.10/dist-packages (from openpyxl<4.0.0,>=3.1.2->niapy) (2.0.0)\n",
            "Requirement already satisfied: pytz>=2020.1 in /usr/local/lib/python3.10/dist-packages (from pandas<3.0.0,>=2.1.1->niapy) (2024.2)\n",
            "Requirement already satisfied: tzdata>=2022.7 in /usr/local/lib/python3.10/dist-packages (from pandas<3.0.0,>=2.1.1->niapy) (2024.2)\n",
            "Requirement already satisfied: six>=1.5 in /usr/local/lib/python3.10/dist-packages (from python-dateutil>=2.7->matplotlib<4.0.0,>=3.8.0->niapy) (1.17.0)\n",
            "Downloading niapy-2.5.1-py3-none-any.whl (187 kB)\n",
            "\u001b[2K   \u001b[90m━━━━━━━━━━━━━━━━━━━━━━━━━━━━━━━━━━━━━━━━\u001b[0m \u001b[32m188.0/188.0 kB\u001b[0m \u001b[31m6.1 MB/s\u001b[0m eta \u001b[36m0:00:00\u001b[0m\n",
            "\u001b[?25hInstalling collected packages: niapy\n",
            "Successfully installed niapy-2.5.1\n"
          ]
        }
      ]
    },
    {
      "cell_type": "code",
      "source": [
        "import pandas as pd\n",
        "from sklearn.model_selection import train_test_split\n",
        "from sklearn.svm import SVC\n",
        "from sklearn.metrics import accuracy_score, classification_report\n",
        "from sklearn.preprocessing import StandardScaler\n",
        "from imblearn.over_sampling import SMOTE\n",
        "\n",
        "# Baca dataset ST-elevasi, amplitudo RS, dan kelas multiklas\n",
        "st_dataset = pd.read_csv('/content/gabunganfitur/STElevasi.csv')  # Dataset fitur ST-elevasi\n",
        "rs_dataset = pd.read_csv('/content/gabunganfitur/AmplitudoRS.csv')  # Dataset fitur RS\n",
        "class_dataset = pd.read_csv('/content/gabunganfitur/MIandNormal.csv')  # Dataset kelas multiklas\n",
        "\n",
        "# Hilangkan '.hea' dari kolom patient_id di amplitudo RS\n",
        "rs_dataset['patient_id'] = rs_dataset['patient_id'].str.replace('.hea', '', regex=False).str.strip()\n",
        "\n",
        "# Rename kolom 'Record Name' menjadi 'patient_id' untuk konsistensi\n",
        "st_dataset = st_dataset.rename(columns={'Record Name': 'patient_id'})\n",
        "class_dataset = class_dataset.rename(columns={'Record Name': 'patient_id'})\n",
        "\n",
        "# Gabungkan dataset berdasarkan kolom 'patient_id'\n",
        "merged_dataset = pd.merge(st_dataset, rs_dataset, on='patient_id', how='inner')\n",
        "merged_dataset = pd.merge(merged_dataset, class_dataset, on='patient_id', how='inner')\n",
        "\n",
        "# Pisahkan fitur (X) dan label (y)\n",
        "X = merged_dataset[['st_mean', 'st_std', 'st_max', 'st_min', 'st_range',\n",
        "                    'Mean_RS', 'Max_RS', 'Min_RS', 'Std_RS']]  # Gabungan fitur\n",
        "y = merged_dataset['Class']  # Target label (kelas multiklas)\n",
        "\n",
        "# Split data menjadi training dan testing set\n",
        "X_train, X_test, y_train, y_test = train_test_split(X, y, test_size=0.2, random_state=42)\n",
        "\n",
        "# Terapkan SMOTE untuk menangani ketidakseimbangan kelas pada data pelatihan\n",
        "smote = SMOTE(random_state=42)\n",
        "X_train_resampled, y_train_resampled = smote.fit_resample(X_train, y_train)\n",
        "\n",
        "# Standarisasi fitur\n",
        "scaler = StandardScaler()\n",
        "X_train_resampled = scaler.fit_transform(X_train_resampled)\n",
        "X_test = scaler.transform(X_test)\n",
        "\n",
        "# Inisialisasi dan training model SVM\n",
        "model = SVC(C= 100.0, kernel= 'rbf', gamma= 0.9824819005302686)\n",
        "model.fit(X_train_resampled, y_train_resampled)\n",
        "\n",
        "# Prediksi pada data testing\n",
        "y_pred = model.predict(X_test)\n",
        "\n",
        "# Evaluasi performa model\n",
        "print(f\"Akurasi: {accuracy_score(y_test, y_pred) * 100:.2f}%\")\n",
        "print(\"Laporan Klasifikasi:\")\n",
        "print(classification_report(y_test, y_pred, zero_division=0))\n"
      ],
      "metadata": {
        "colab": {
          "base_uri": "https://localhost:8080/"
        },
        "id": "JayM4Ax8L3Iq",
        "outputId": "fbe2656b-df96-4ff8-ebae-3deeff00da9f"
      },
      "execution_count": null,
      "outputs": [
        {
          "output_type": "stream",
          "name": "stderr",
          "text": [
            "/usr/local/lib/python3.10/dist-packages/sklearn/base.py:474: FutureWarning: `BaseEstimator._validate_data` is deprecated in 1.6 and will be removed in 1.7. Use `sklearn.utils.validation.validate_data` instead. This function becomes public and is part of the scikit-learn developer API.\n",
            "  warnings.warn(\n",
            "/usr/local/lib/python3.10/dist-packages/sklearn/utils/_tags.py:354: FutureWarning: The SMOTE or classes from which it inherits use `_get_tags` and `_more_tags`. Please define the `__sklearn_tags__` method, or inherit from `sklearn.base.BaseEstimator` and/or other appropriate mixins such as `sklearn.base.TransformerMixin`, `sklearn.base.ClassifierMixin`, `sklearn.base.RegressorMixin`, and `sklearn.base.OutlierMixin`. From scikit-learn 1.7, not defining `__sklearn_tags__` will raise an error.\n",
            "  warnings.warn(\n"
          ]
        },
        {
          "output_type": "stream",
          "name": "stdout",
          "text": [
            "Akurasi: 89.85%\n",
            "Laporan Klasifikasi:\n",
            "              precision    recall  f1-score   support\n",
            "\n",
            "           0       0.71      0.81      0.76       160\n",
            "           1       0.95      0.92      0.94       658\n",
            "\n",
            "    accuracy                           0.90       818\n",
            "   macro avg       0.83      0.86      0.85       818\n",
            "weighted avg       0.90      0.90      0.90       818\n",
            "\n"
          ]
        }
      ]
    },
    {
      "cell_type": "code",
      "source": [
        "from sklearn.metrics import confusion_matrix, ConfusionMatrixDisplay\n",
        "import matplotlib.pyplot as plt\n",
        "\n",
        "conf_matrix = confusion_matrix(y_test, y_pred)\n",
        "disp = ConfusionMatrixDisplay(confusion_matrix=conf_matrix, display_labels=model.classes_)\n",
        "disp.plot(cmap='Blues')\n",
        "plt.show()"
      ],
      "metadata": {
        "colab": {
          "base_uri": "https://localhost:8080/",
          "height": 451
        },
        "id": "MfLEh6E--WAb",
        "outputId": "4e8cd021-fee7-4617-e116-10d36cf40a3b"
      },
      "execution_count": null,
      "outputs": [
        {
          "output_type": "display_data",
          "data": {
            "text/plain": [
              "<Figure size 640x480 with 2 Axes>"
            ],
            "image/png": "[encoded data removed]"
          },
          "metadata": {}
        }
      ]
    },
    {
      "cell_type": "code",
      "source": [
        "import pandas as pd\n",
        "from sklearn.model_selection import train_test_split, GridSearchCV\n",
        "from sklearn.svm import SVC\n",
        "from sklearn.metrics import accuracy_score, classification_report, confusion_matrix\n",
        "from sklearn.preprocessing import StandardScaler\n",
        "from imblearn.over_sampling import SMOTE\n",
        "\n",
        "# Baca dataset ST-elevasi, amplitudo RS, dan kelas multiklas\n",
        "st_dataset = pd.read_csv('/content/gabunganfitur/STElevasi.csv')  # Dataset fitur ST-elevasi\n",
        "rs_dataset = pd.read_csv('/content/gabunganfitur/AmplitudoRS.csv')  # Dataset fitur RS\n",
        "class_dataset = pd.read_csv('/content/gabunganfitur/MIandNormal.csv')  # Dataset kelas multiklas\n",
        "\n",
        "# Hilangkan '.hea' dari kolom patient_id di amplitudo RS\n",
        "rs_dataset['patient_id'] = rs_dataset['patient_id'].str.replace('.hea', '', regex=False).str.strip()\n",
        "\n",
        "# Rename kolom 'Record Name' menjadi 'patient_id' untuk konsistensi\n",
        "st_dataset = st_dataset.rename(columns={'Record Name': 'patient_id'})\n",
        "class_dataset = class_dataset.rename(columns={'Record Name': 'patient_id'})\n",
        "\n",
        "# Gabungkan dataset berdasarkan kolom 'patient_id'\n",
        "merged_dataset = pd.merge(st_dataset, rs_dataset, on='patient_id', how='inner')\n",
        "merged_dataset = pd.merge(merged_dataset, class_dataset, on='patient_id', how='inner')\n",
        "\n",
        "# Pisahkan fitur (X) dan label (y)\n",
        "X = merged_dataset[['st_mean', 'st_std', 'st_max', 'st_min', 'st_range',\n",
        "                    'Mean_RS', 'Max_RS', 'Min_RS', 'Std_RS']]  # Gabungan fitur\n",
        "y = merged_dataset['Class']  # Target label (kelas multiklas)\n",
        "\n",
        "# # 4. Hitung distribusi kelas sebelum split\n",
        "# print(\"Distribusi Kelas Sebelum Split:\")\n",
        "# print(y.value_counts())\n",
        "\n",
        "# 5. Split data menjadi training dan testing set\n",
        "X_train, X_test, y_train, y_test = train_test_split(X, y, test_size=0.2, random_state=42, stratify=y)\n",
        "\n",
        "# # 6. Hitung distribusi kelas setelah split\n",
        "# print(\"Distribusi Kelas Setelah Split:\")\n",
        "# print(\"Training Set:\")\n",
        "# print(y_train.value_counts())\n",
        "# print(\"Testing Set:\")\n",
        "# print(y_test.value_counts())\n",
        "\n",
        "# 7. Terapkan SMOTE untuk menyeimbangkan kelas pada data pelatihan\n",
        "smote = SMOTE(random_state=42)\n",
        "X_train_resampled, y_train_resampled = smote.fit_resample(X_train, y_train)\n",
        "\n",
        "# 8. Standarisasi fitur\n",
        "scaler = StandardScaler()\n",
        "X_train_resampled = scaler.fit_transform(X_train_resampled)\n",
        "X_test = scaler.transform(X_test)\n",
        "\n",
        "# 9. Optimasi parameter SVM menggunakan GridSearchCV\n",
        "param_grid = {\n",
        "    'C': [0.01, 0.1, 1, 10],\n",
        "    'gamma': [0.01, 0.1, 1, 'scale'],\n",
        "    'kernel': ['rbf'],\n",
        "    'class_weight': ['balanced', None]\n",
        "}\n",
        "\n",
        "grid_search = GridSearchCV(SVC(probability=True), param_grid, cv=5, scoring='f1_macro')\n",
        "grid_search.fit(X_train_resampled, y_train_resampled)\n",
        "\n",
        "# 10. Model terbaik dari GridSearch\n",
        "best_model = grid_search.best_estimator_\n",
        "print(f\"Best Model Parameters: {grid_search.best_params_}\")\n",
        "\n",
        "# 11. Prediksi pada set pengujian\n",
        "y_pred = best_model.predict(X_test)\n",
        "\n",
        "# 12. Evaluasi akurasi\n",
        "accuracy = accuracy_score(y_test, y_pred)\n",
        "print(f\"Akurasi: {accuracy * 100:.2f}%\")\n",
        "\n",
        "# 13. Laporan klasifikasi\n",
        "report = classification_report(y_test, y_pred, zero_division=0)\n",
        "print(\"Laporan Klasifikasi:\")\n",
        "print(report)\n",
        "\n",
        "# 14. Analisis confusion matrix\n",
        "cm = confusion_matrix(y_test, y_pred)\n",
        "print(\"Confusion Matrix (Testing Set):\")\n",
        "print(cm)\n",
        "\n",
        "# 15. Perhitungan sensitivitas, spesifisitas, dan F1-score\n",
        "# Sensitivitas (Recall untuk kelas 1)\n",
        "sensitivity = cm[1, 1] / (cm[1, 0] + cm[1, 1]) if (cm[1, 0] + cm[1, 1]) != 0 else 0\n",
        "\n",
        "# Spesifisitas (Recall untuk kelas 0)\n",
        "specificity = cm[0, 0] / (cm[0, 0] + cm[0, 1]) if (cm[0, 0] + cm[0, 1]) != 0 else 0\n",
        "\n",
        "# F1 Score makro (rata-rata antar kelas)\n",
        "f1_scores = classification_report(y_test, y_pred, output_dict=True, zero_division=0)['macro avg']['f1-score']\n",
        "\n",
        "# Cetak hasil evaluasi\n",
        "print(f\"\\nHasil Evaluasi:\")\n",
        "print(f\"Akurasi: {accuracy * 100:.2f}%\")\n",
        "print(f\"Sensitivitas (Recall Kelas 1): {sensitivity:.2f}\")\n",
        "print(f\"Spesifisitas (Recall Kelas 0): {specificity:.2f}\")\n",
        "print(f\"F1 Score (Macro Average): {f1_scores:.2f}\")\n"
      ],
      "metadata": {
        "colab": {
          "base_uri": "https://localhost:8080/"
        },
        "id": "4b2tLHCD6Vq_",
        "outputId": "a385ba82-4ea8-4a06-97a7-59e0d8b35771"
      },
      "execution_count": null,
      "outputs": [
        {
          "output_type": "stream",
          "name": "stderr",
          "text": [
            "/usr/local/lib/python3.10/dist-packages/sklearn/base.py:474: FutureWarning: `BaseEstimator._validate_data` is deprecated in 1.6 and will be removed in 1.7. Use `sklearn.utils.validation.validate_data` instead. This function becomes public and is part of the scikit-learn developer API.\n",
            "  warnings.warn(\n",
            "/usr/local/lib/python3.10/dist-packages/sklearn/utils/_tags.py:354: FutureWarning: The SMOTE or classes from which it inherits use `_get_tags` and `_more_tags`. Please define the `__sklearn_tags__` method, or inherit from `sklearn.base.BaseEstimator` and/or other appropriate mixins such as `sklearn.base.TransformerMixin`, `sklearn.base.ClassifierMixin`, `sklearn.base.RegressorMixin`, and `sklearn.base.OutlierMixin`. From scikit-learn 1.7, not defining `__sklearn_tags__` will raise an error.\n",
            "  warnings.warn(\n"
          ]
        },
        {
          "output_type": "stream",
          "name": "stdout",
          "text": [
            "Best Model Parameters: {'C': 10, 'class_weight': 'balanced', 'gamma': 1, 'kernel': 'rbf'}\n",
            "Akurasi: 86.92%\n",
            "Laporan Klasifikasi:\n",
            "              precision    recall  f1-score   support\n",
            "\n",
            "           0       0.65      0.73      0.69       160\n",
            "           1       0.93      0.90      0.92       658\n",
            "\n",
            "    accuracy                           0.87       818\n",
            "   macro avg       0.79      0.82      0.80       818\n",
            "weighted avg       0.88      0.87      0.87       818\n",
            "\n",
            "Confusion Matrix (Testing Set):\n",
            "[[117  43]\n",
            " [ 64 594]]\n",
            "\n",
            "Hasil Evaluasi:\n",
            "Akurasi: 86.92%\n",
            "Sensitivitas (Recall Kelas 1): 0.90\n",
            "Spesifisitas (Recall Kelas 0): 0.73\n",
            "F1 Score (Macro Average): 0.80\n"
          ]
        }
      ]
    },
    {
      "cell_type": "code",
      "source": [
        "# Cetak hasil evaluasi\n",
        "print(f\"\\nHasil Evaluasi:\")\n",
        "print(f\"Akurasi: {accuracy * 100:.2f}%\")\n",
        "print(f\"Sensitivitas (Recall Kelas 1): {sensitivity * 100:.2f}\")\n",
        "print(f\"Spesifisitas (Recall Kelas 0): {specificity* 100:.2f}\")\n",
        "print(f\"F1 Score (Macro Average): {f1_scores* 100:.2f}\")"
      ],
      "metadata": {
        "colab": {
          "base_uri": "https://localhost:8080/"
        },
        "id": "z4XCg8keYUYG",
        "outputId": "d7c9a8ba-27a2-425c-e232-33b7c2f21cca"
      },
      "execution_count": null,
      "outputs": [
        {
          "output_type": "stream",
          "name": "stdout",
          "text": [
            "\n",
            "Hasil Evaluasi:\n",
            "Akurasi: 86.92%\n",
            "Sensitivitas (Recall Kelas 1): 90.27\n",
            "Spesifisitas (Recall Kelas 0): 73.12\n",
            "F1 Score (Macro Average): 80.18\n"
          ]
        }
      ]
    },
    {
      "cell_type": "code",
      "source": [
        "print(f\"Total data: {len(X)}\")\n",
        "print(f\"Training data: {len(X_train)}\")\n",
        "print(f\"Testing data: {len(X_test)}\")\n"
      ],
      "metadata": {
        "colab": {
          "base_uri": "https://localhost:8080/"
        },
        "id": "fKe0JDXvB28L",
        "outputId": "7c23b4d3-49c6-4790-c298-3b1233349fc2"
      },
      "execution_count": null,
      "outputs": [
        {
          "output_type": "stream",
          "name": "stdout",
          "text": [
            "Total data: 4089\n",
            "Training data: 3271\n",
            "Testing data: 818\n"
          ]
        }
      ]
    },
    {
      "cell_type": "code",
      "source": [
        "from sklearn.metrics import confusion_matrix, ConfusionMatrixDisplay\n",
        "import matplotlib.pyplot as plt\n",
        "\n",
        "# Buat confusion matrix\n",
        "conf_matrix = confusion_matrix(y_test, y_pred)\n",
        "\n",
        "# Tampilkan confusion matrix\n",
        "disp = ConfusionMatrixDisplay(confusion_matrix=conf_matrix, display_labels=best_model.classes_)\n",
        "disp.plot(cmap='Blues')\n",
        "plt.title('Confusion Matrix ST-elevation + R/S amplitude')\n",
        "plt.show()\n"
      ],
      "metadata": {
        "colab": {
          "base_uri": "https://localhost:8080/",
          "height": 472
        },
        "id": "TwBUtWSf-Ndp",
        "outputId": "f0ee7470-212c-4b52-90d8-29f265b18fee"
      },
      "execution_count": null,
      "outputs": [
        {
          "output_type": "display_data",
          "data": {
            "text/plain": [
              "<Figure size 640x480 with 2 Axes>"
            ],
            "image/png": "[encoded data removed]"
          },
          "metadata": {}
        }
      ]
    },
    {
      "cell_type": "code",
      "source": [
        "# import pandas as pd\n",
        "# import numpy as np\n",
        "# from sklearn.model_selection import train_test_split\n",
        "# from sklearn.svm import SVC\n",
        "# from sklearn.metrics import accuracy_score, classification_report\n",
        "# from sklearn.preprocessing import StandardScaler\n",
        "# from imblearn.over_sampling import SMOTE\n",
        "# from niapy.problems import Problem\n",
        "# from niapy.task import OptimizationType, Task\n",
        "# from niapy.algorithms.basic import ParticleSwarmAlgorithm\n",
        "\n",
        "# # Fungsi untuk mendapatkan hyperparameter dari nilai partikel\n",
        "# def get_hyperparameters(x):\n",
        "#     C = 10 ** x[0]\n",
        "#     kernel = 'rbf' if x[1] >= 0.5 else 'linear'\n",
        "#     gamma = 10 ** x[2]\n",
        "#     return {'C': C, 'kernel': kernel, 'gamma': gamma}\n",
        "\n",
        "# def get_classifier(x):\n",
        "#     params = get_hyperparameters(x)\n",
        "#     return SVC(**params)\n",
        "\n",
        "# # Definisi masalah optimasi untuk SVM\n",
        "# class SVMHyperparameterOptimization(Problem):\n",
        "#     def __init__(self, X_train, y_train, X_test, y_test):\n",
        "#         super().__init__(dimension=3, lower=[-1, 0, -1], upper=[2, 1, 2])  # C, kernel (binary), gamma\n",
        "#         self.X_train = X_train\n",
        "#         self.y_train = y_train\n",
        "#         self.X_test = X_test\n",
        "#         self.y_test = y_test\n",
        "\n",
        "#     def _evaluate(self, x):\n",
        "#         model = get_classifier(x)\n",
        "#         model.fit(self.X_train, self.y_train)\n",
        "#         y_pred = model.predict(self.X_test)\n",
        "#         accuracy = accuracy_score(self.y_test, y_pred)\n",
        "#         return -accuracy  # Negasikan akurasi untuk tujuan minimisasi\n",
        "\n",
        "# # Langkah 1: Baca dataset fitur ST-elevasi, amplitudo RS, dan dataset kelas multiklas\n",
        "# st_dataset = pd.read_csv('/content/gabunganfitur/STElevasi.csv')  # Dataset fitur ST-elevasi\n",
        "# rs_dataset = pd.read_csv('/content/gabunganfitur/AmplitudoRS.csv')  # Dataset fitur RS\n",
        "# class_dataset = pd.read_csv('/content/gabunganfitur/MIandNormal.csv')  # Dataset kelas multiklas\n",
        "\n",
        "# # Hilangkan '.hea' dari kolom patient_id di dataset Amplitudo RS\n",
        "# rs_dataset['patient_id'] = rs_dataset['patient_id'].str.replace('.hea', '', regex=False).str.strip()\n",
        "\n",
        "# # Rename kolom 'Record Name' menjadi 'patient_id' di semua dataset untuk konsistensi\n",
        "# st_dataset = st_dataset.rename(columns={'Record Name': 'patient_id'})\n",
        "# class_dataset = class_dataset.rename(columns={'Record Name': 'patient_id'})\n",
        "\n",
        "# # Bersihkan kolom 'patient_id' agar konsisten\n",
        "# st_dataset['patient_id'] = st_dataset['patient_id'].str.strip().str.lower()\n",
        "# rs_dataset['patient_id'] = rs_dataset['patient_id'].str.strip().str.lower()\n",
        "# class_dataset['patient_id'] = class_dataset['patient_id'].str.strip().str.lower()\n",
        "\n",
        "# # Langkah 2: Gabungkan dataset berdasarkan 'patient_id'\n",
        "# merged_data = st_dataset.merge(rs_dataset, on='patient_id', how='inner')\n",
        "# merged_data = merged_data.merge(class_dataset, on='patient_id', how='inner')\n",
        "\n",
        "# # Langkah 3: Pisahkan fitur dan label\n",
        "# X = merged_data[['st_mean', 'st_std', 'st_max', 'st_min', 'st_range',\n",
        "#                  'Mean_RS', 'Max_RS', 'Min_RS', 'Std_RS']]  # Gabungan fitur\n",
        "# y = merged_data['Class']  # Target label (multiklas)\n",
        "\n",
        "# # Split data menjadi training dan testing set\n",
        "# X_train, X_test, y_train, y_test = train_test_split(X, y, test_size=0.2, random_state=42)\n",
        "\n",
        "# # Terapkan SMOTE untuk menyeimbangkan kelas pada data pelatihan\n",
        "# smote = SMOTE(random_state=42)\n",
        "# X_train_resampled, y_train_resampled = smote.fit_resample(X_train, y_train)\n",
        "\n",
        "# # Standarisasi fitur\n",
        "# scaler = StandardScaler()\n",
        "# X_train_resampled = scaler.fit_transform(X_train_resampled)\n",
        "# X_test = scaler.transform(X_test)\n",
        "\n",
        "# # Inisialisasi dan jalankan optimisasi hyperparameter\n",
        "# problem = SVMHyperparameterOptimization(X_train_resampled, y_train_resampled, X_test, y_test)\n",
        "# task = Task(problem, max_iters=50, optimization_type=OptimizationType.MINIMIZATION)\n",
        "# algorithm = ParticleSwarmAlgorithm(population_size=20, seed=1234)\n",
        "\n",
        "# best_params, best_accuracy = algorithm.run(task)\n",
        "\n",
        "# # Tampilkan hasil optimasi\n",
        "# print('Best parameters:', get_hyperparameters(best_params))\n",
        "# print('Best accuracy:', -best_accuracy)\n",
        "\n",
        "# # Evaluasi model terbaik\n",
        "# best_model = get_classifier(best_params)\n",
        "# best_model.fit(X_train_resampled, y_train_resampled)\n",
        "# y_pred = best_model.predict(X_test)\n",
        "\n",
        "# print(f\"Akurasi Model Terbaik: {accuracy_score(y_test, y_pred) * 100:.2f}%\")\n",
        "# print(\"Laporan Klasifikasi:\")\n",
        "# print(classification_report(y_test, y_pred, zero_division=0))\n"
      ],
      "metadata": {
        "id": "Fjg8CyE1Gzz3"
      },
      "execution_count": null,
      "outputs": []
    }
  ]
}